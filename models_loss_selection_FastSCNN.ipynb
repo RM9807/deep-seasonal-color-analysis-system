{
 "cells": [
  {
   "cell_type": "code",
   "execution_count": null,
   "metadata": {
    "id": "8ulxDNcSNOq9"
   },
   "outputs": [],
   "source": [
    "# === colab configuration ===\n",
    "# p.s. when training on colab, weights are saved on Drive (directory DSCAS/weights).\n",
    "# p.p.s. skip this cell if running demo file locally!\n",
    "\n",
    "! pip install torch-summary\n",
    "! pip install ray\n",
    "! pip install tensorboardX==2.5.1\n",
    "! pip install tensorboard==2.11.2\n",
    "from google.colab import drive, files\n",
    "import sys\n",
    "\n",
    "# setting paths\n",
    "repository_path = '/content/deep-seasonal-color-analysis-system/'\n",
    "dataset_path = repository_path + 'headsegmentation_dataset_ccncsa/'\n",
    "dataset_path_drive = '/content/drive/MyDrive/DSCAS/headsegmentation_dataset_ccncsa/'\n",
    "weights_path = repository_path + 'models/weights/'\n",
    "weights_path_drive = '/content/drive/MyDrive/DSCAS/weights/'\n",
    "checkpoint_path = repository_path + 'models/loss_selection/'\n",
    "checkpoint_archive = '/content/' + checkpoint_path.split('/')[-2] + '.zip'\n",
    "\n",
    "sys.path.insert(0, repository_path)\n",
    "\n",
    "# cloning project repository and downloading dataset\n",
    "drive.mount('/content/drive')\n",
    "! test ! -d $repository_path && git clone https://github.com/mrcmich/deep-seasonal-color-analysis-system.git\n",
    "! test ! -d $dataset_path && cp -R $dataset_path_drive $dataset_path\n",
    "%cd $repository_path\n",
    "\n",
    "# setting branch and pulling updates\n",
    "branch = 'main__fastscnn_hyperparameters_tuning'\n",
    "! git checkout $branch\n",
    "! git pull origin $branch\n",
    "\n",
    "executing_on_colab = True"
   ]
  },
  {
   "cell_type": "code",
   "execution_count": null,
   "metadata": {
    "id": "PUNWSumyhhyN"
   },
   "outputs": [],
   "source": [
    "import os\n",
    "import torch\n",
    "from torch import nn, optim\n",
    "import torchvision.transforms as T\n",
    "from sklearn.model_selection import train_test_split\n",
    "from models import dataset, training_and_testing\n",
    "from models.local.FastSCNN.models import fast_scnn\n",
    "from metrics_and_losses import metrics\n",
    "from utils import segmentation_labels, custom_transforms, model_names\n",
    "from models import config\n",
    "from slurm_scripts import slurm_config\n",
    "from ray import tune\n",
    "from ray.tune import CLIReporter\n",
    "from functools import partial\n",
    "\n",
    "try:\n",
    "  executing_on_colab\n",
    "except NameError:\n",
    "  executing_on_colab = False\n",
    "  weights_path = config.WEIGHTS_PATH\n",
    "  dataset_path = config.DATASET_PATH\n",
    "  checkpoint_path = config.LOSS_SELECTION_PATH"
   ]
  },
  {
   "cell_type": "code",
   "execution_count": null,
   "metadata": {
    "id": "pSBN1RIFhhyP"
   },
   "outputs": [],
   "source": [
    "# defining transforms\n",
    "image_transform = T.Compose([T.Resize(slurm_config.GLOBAL_INPUT_SIZE_TRAINING_DEMO), T.Normalize(config.NORMALIZE_MEAN, config.NORMALIZE_STD)])\n",
    "target_transform = T.Compose([T.Resize(slurm_config.GLOBAL_INPUT_SIZE_TRAINING_DEMO)])\n",
    "\n",
    "# fetching dataset\n",
    "n_classes = len(segmentation_labels.labels)\n",
    "img_paths, label_paths = dataset.get_paths(dataset_path, file_name=config.DATASET_INDEX_NAME)\n",
    "X_train, _, Y_train, _ = train_test_split(\n",
    "    img_paths, label_paths, test_size=0.20, random_state=99, shuffle=True)\n",
    "train_dataset = dataset.CcncsaDataset(X_train, Y_train, image_transform, target_transform)\n",
    "\n",
    "# model parameters\n",
    "model_name = \"fastscnn\"\n",
    "optimizer = optim.Adam\n",
    "\n",
    "# setting up hyperparameters for training\n",
    "device = 'cuda' if torch.cuda.is_available() else 'cpu'\n",
    "n_epochs = 10\n",
    "batch_size = 32\n",
    "score_fn = metrics.batch_mIoU\n",
    "learning_rate = 0.01\n",
    "class_weights = torch.tensor(config.CLASS_WEIGHTS, device=device)\n",
    "\n",
    "# Ray Tune parameters\n",
    "cpus_per_trial = 0\n",
    "gpus_per_trial = torch.cuda.device_count()\n",
    "num_samples = 1  # Number of times each combination is sampled (n_epochs are done per sample)\n",
    "metric = \"val_loss\"\n",
    "metrics_columns = [\"train_loss\", \"train_score\", \"val_loss\", \"val_score\", \"training_iteration\"]\n",
    "local_dir = checkpoint_path + model_names.MODEL_NAMES[model_name]\n",
    "max_report_frequency = 600\n",
    "reporter = CLIReporter(\n",
    "    metric_columns=metrics_columns, max_report_frequency=max_report_frequency)"
   ]
  },
  {
   "cell_type": "code",
   "execution_count": null,
   "metadata": {},
   "outputs": [],
   "source": [
    "# === training with std. loss ===\n",
    "\n",
    "checkpoint_dir = local_dir if executing_on_colab else (os.path.abspath('./' + local_dir) + '/')\n",
    "cfg = {\n",
    "    \"lr\": learning_rate,\n",
    "    \"lr_scheduler\": \"none\",\n",
    "    \"batch_size\": batch_size,\n",
    "    \"loss\": \"std\",\n",
    "    \"from_checkpoint\": False,\n",
    "    \"checkpoint_dir\": checkpoint_dir\n",
    "    }\n",
    "\n",
    "model = fast_scnn.FastSCNN(n_classes)\n",
    "loss_fn = nn.CrossEntropyLoss()\n",
    "\n",
    "tune.run(partial(training_and_testing.train_model,\n",
    "                 device=device, model=model, dataset=train_dataset, n_epochs=n_epochs,\n",
    "                 score_fn=score_fn, loss_fn=loss_fn, optimizer=optimizer, num_workers=(0, 0),\n",
    "                 evaluate=True, class_weights=class_weights),\n",
    "         config=cfg,\n",
    "         num_samples=num_samples,\n",
    "         resources_per_trial={\"cpu\": cpus_per_trial, \"gpu\": gpus_per_trial},\n",
    "         progress_reporter=reporter,\n",
    "         checkpoint_at_end=True,\n",
    "         checkpoint_freq=1,\n",
    "         local_dir=local_dir)"
   ]
  },
  {
   "cell_type": "code",
   "execution_count": null,
   "metadata": {},
   "outputs": [],
   "source": [
    "# downloading updated training results if running on colab\n",
    "! if test $executing_on_colab = 'True' ; then zip -r $checkpoint_archive $checkpoint_path ; fi\n",
    "if executing_on_colab:\n",
    "    files.download(checkpoint_archive)"
   ]
  },
  {
   "cell_type": "code",
   "execution_count": null,
   "metadata": {},
   "outputs": [],
   "source": [
    "# === training with std. loss ===\n",
    "\n",
    "cfg[\"loss\"] = \"weighted\"\n",
    "\n",
    "model = fast_scnn.FastSCNN(n_classes)\n",
    "loss_fn = nn.CrossEntropyLoss(weight=class_weights)\n",
    "\n",
    "tune.run(partial(training_and_testing.train_model,\n",
    "                 device=device, model=model, dataset=train_dataset, n_epochs=n_epochs,\n",
    "                 score_fn=score_fn, loss_fn=loss_fn, optimizer=optimizer, num_workers=(0, 0),\n",
    "                 evaluate=True, class_weights=class_weights),\n",
    "         config=cfg,\n",
    "         num_samples=num_samples,\n",
    "         resources_per_trial={\"cpu\": cpus_per_trial, \"gpu\": gpus_per_trial},\n",
    "         progress_reporter=reporter,\n",
    "         checkpoint_at_end=True,\n",
    "         checkpoint_freq=1,\n",
    "         local_dir=local_dir)"
   ]
  },
  {
   "cell_type": "code",
   "execution_count": null,
   "metadata": {},
   "outputs": [],
   "source": [
    "# downloading updated training results if running on colab\n",
    "! if test $executing_on_colab = 'True' ; then zip -r $checkpoint_archive $checkpoint_path ; fi\n",
    "if executing_on_colab:\n",
    "    files.download(checkpoint_archive)"
   ]
  },
  {
   "cell_type": "code",
   "execution_count": null,
   "metadata": {},
   "outputs": [],
   "source": [
    "%load_ext tensorboard\n",
    "%tensorboard --logdir {checkpoint_path}"
   ]
  }
 ],
 "metadata": {
  "accelerator": "GPU",
  "colab": {
   "provenance": []
  },
  "gpuClass": "standard",
  "kernelspec": {
   "display_name": "Python 3",
   "language": "python",
   "name": "python3"
  },
  "language_info": {
   "codemirror_mode": {
    "name": "ipython",
    "version": 3
   },
   "file_extension": ".py",
   "mimetype": "text/x-python",
   "name": "python",
   "nbconvert_exporter": "python",
   "pygments_lexer": "ipython3",
   "version": "3.9.0 (tags/v3.9.0:9cf6752, Oct  5 2020, 15:34:40) [MSC v.1927 64 bit (AMD64)]"
  },
  "orig_nbformat": 4,
  "vscode": {
   "interpreter": {
    "hash": "82f66c251be9d40cacb10d5ee31b9d775ddf82f4eb2e1565bb5820a0e364e9ae"
   }
  }
 },
 "nbformat": 4,
 "nbformat_minor": 0
}
