{
  "cells": [
    {
      "cell_type": "code",
      "execution_count": null,
      "metadata": {
        "colab": {
          "base_uri": "https://localhost:8080/"
        },
        "id": "8ulxDNcSNOq9",
        "outputId": "c05c5d1c-2d9b-4f25-99ab-c7ae4ec68c48"
      },
      "outputs": [],
      "source": [
        "# === colab configuration ===\n",
        "# p.s. when training on colab, weights are saved on Drive (directory DSCAS/weights).\n",
        "# p.p.s. skip this cell if running demo file locally!\n",
        "\n",
        "! pip install torch-summary\n",
        "! pip install ray\n",
        "! pip install tensorboardX==2.5.1\n",
        "! pip install tensorboard==2.11.2\n",
        "from google.colab import drive\n",
        "import sys\n",
        "\n",
        "# setting paths\n",
        "repository_path = '/content/deep-seasonal-color-analysis-system/'\n",
        "dataset_path = repository_path + 'headsegmentation_dataset_ccncsa/'\n",
        "dataset_path_drive = '/content/drive/MyDrive/DSCAS/headsegmentation_dataset_ccncsa/'\n",
        "weights_path = repository_path + 'models/weights/'\n",
        "weights_path_drive = '/content/drive/MyDrive/DSCAS/weights/'\n",
        "checkpoint_path = repository_path + 'models/preprocessing/'\n",
        "sys.path.insert(0, repository_path)\n",
        "\n",
        "# cloning project repository and downloading dataset\n",
        "drive.mount('/content/drive')\n",
        "! test ! -d $repository_path && git clone https://github.com/mrcmich/deep-seasonal-color-analysis-system.git\n",
        "! test ! -d $dataset_path && cp -R $dataset_path_drive $dataset_path\n",
        "%cd $repository_path\n",
        "\n",
        "# setting branch and pulling updates\n",
        "branch = 'main__fastscnn_hyperparameters_tuning'\n",
        "! git checkout $branch\n",
        "! git pull origin $branch\n",
        "\n",
        "executing_on_colab = True"
      ]
    },
    {
      "cell_type": "code",
      "execution_count": null,
      "metadata": {
        "id": "PUNWSumyhhyN"
      },
      "outputs": [],
      "source": [
        "import torch\n",
        "from torch import nn, optim\n",
        "import torchvision.transforms as T\n",
        "from sklearn.model_selection import train_test_split\n",
        "from models import dataset, training_and_testing\n",
        "from models.local.FastSCNN.models import fast_scnn\n",
        "from metrics_and_losses import metrics\n",
        "from utils import segmentation_labels, custom_transforms, model_names\n",
        "from models import config\n",
        "from slurm_scripts import slurm_config\n",
        "from ray import tune\n",
        "from ray.tune import CLIReporter\n",
        "from functools import partial\n",
        "\n",
        "try:\n",
        "  executing_on_colab\n",
        "except NameError:\n",
        "  executing_on_colab = False\n",
        "  weights_path = config.WEIGHTS_PATH\n",
        "  dataset_path = config.DATASET_PATH\n",
        "  checkpoint_path = config.PREPROCESSING_PATH"
      ]
    },
    {
      "cell_type": "code",
      "execution_count": null,
      "metadata": {
        "id": "pSBN1RIFhhyP"
      },
      "outputs": [],
      "source": [
        "# === defining transforms ===\n",
        "\n",
        "diameter = 7\n",
        "sigma_color = 50\n",
        "sigma_space = 100\n",
        "horizontal_flip = custom_transforms.PartiallyDeterministicHorizontalFlip(p=0.5)\n",
        "center_crop = custom_transforms.PartiallyDeterministicCenterCrop(p=0.5)\n",
        "\n",
        "image_transform = T.Compose([\n",
        "    T.Resize(slurm_config.GLOBAL_INPUT_SIZE_TRAINING_DEMO), \n",
        "    custom_transforms.BilateralFilter(sigma_color, sigma_space, diameter), \n",
        "    T.Normalize(config.NORMALIZE_MEAN, config.NORMALIZE_STD)])\n",
        "\n",
        "target_transform = T.Compose([T.Resize(slurm_config.GLOBAL_INPUT_SIZE_TRAINING_DEMO)])\n",
        "\n",
        "# fetching dataset\n",
        "n_classes = len(segmentation_labels.labels)\n",
        "img_paths, label_paths = dataset.get_paths(dataset_path, file_name=config.DATASET_INDEX_NAME)\n",
        "X_train, _, Y_train, _ = train_test_split(img_paths, label_paths, test_size=0.20, random_state=99, shuffle=True)\n",
        "train_dataset = dataset.CcncsaDataset(X_train, Y_train, image_transform, target_transform)\n",
        "\n",
        "# setting up hyperparameters for training\n",
        "device = 'cuda' if torch.cuda.is_available() else 'cpu'\n",
        "n_epochs = 10\n",
        "batch_size = 32\n",
        "loss_fn = nn.CrossEntropyLoss()\n",
        "score_fn = metrics.batch_mIoU\n",
        "learning_rate = 0.01\n",
        "class_weights = torch.tensor(config.CLASS_WEIGHTS, device=device)"
      ]
    },
    {
      "cell_type": "code",
      "execution_count": null,
      "metadata": {
        "id": "XFh0Gb1Dp_1k"
      },
      "outputs": [],
      "source": [
        "# model parameters\n",
        "model_name = \"fastscnn\"\n",
        "model = fast_scnn.FastSCNN(n_classes)\n",
        "optimizer = optim.Adam"
      ]
    },
    {
      "cell_type": "code",
      "execution_count": null,
      "metadata": {
        "id": "ViTPkes9oxok"
      },
      "outputs": [],
      "source": [
        "# Ray Tune parameters\n",
        "cpus_per_trial = 0\n",
        "gpus_per_trial = torch.cuda.device_count()\n",
        "num_samples = 1  # Number of times each combination is sampled (n_epochs are done per sample)\n",
        "metric = \"val_loss\"\n",
        "metrics_columns = [\"train_loss\", \"train_score\", \"val_loss\", \"val_score\", \"training_iteration\"]\n",
        "local_dir = checkpoint_path + model_names.MODEL_NAMES[model_name]\n",
        "max_report_frequency = 600\n",
        "reporter = CLIReporter(\n",
        "    metric_columns=metrics_columns, max_report_frequency=max_report_frequency)"
      ]
    },
    {
      "cell_type": "code",
      "execution_count": null,
      "metadata": {
        "colab": {
          "base_uri": "https://localhost:8080/"
        },
        "id": "P9goVLwWZpJF",
        "outputId": "5ab94b93-8c07-44fa-8c56-9a38272d0604",
        "pycharm": {
          "is_executing": true
        }
      },
      "outputs": [],
      "source": [
        "# === training without augmentation ===\n",
        "\n",
        "config = {\n",
        "    \"lr\": learning_rate,\n",
        "    \"lr_scheduler\": \"none\",\n",
        "    \"batch_size\": batch_size,\n",
        "    \"transform\": \"none\",\n",
        "    \"from_checkpoint\": False,\n",
        "    \"checkpoint_dir\": local_dir\n",
        "    }\n",
        "\n",
        "tune.run(partial(training_and_testing.train_model,\n",
        "                 device=device, model=model, dataset=train_dataset, n_epochs=n_epochs,\n",
        "                 score_fn=score_fn, loss_fn=loss_fn, optimizer=optimizer, num_workers=(0, 0),\n",
        "                 evaluate=True, class_weights=class_weights),\n",
        "         config=config,\n",
        "         num_samples=num_samples,\n",
        "         resources_per_trial={\"cpu\": cpus_per_trial, \"gpu\": gpus_per_trial},\n",
        "         progress_reporter=reporter,\n",
        "         checkpoint_at_end=True,\n",
        "         checkpoint_freq=1,\n",
        "         local_dir=local_dir)"
      ]
    },
    {
      "cell_type": "code",
      "execution_count": null,
      "metadata": {
        "id": "W3OpWYa3ZpJF"
      },
      "outputs": [],
      "source": [
        "# === training with augmentation: ColorJitter ===\n",
        "\n",
        "image_transform_with_augmentation = T.Compose([\n",
        "    T.ColorJitter(brightness=0.25, contrast=0.25), \n",
        "    T.Resize(slurm_config.GLOBAL_INPUT_SIZE_TRAINING_DEMO), \n",
        "    custom_transforms.BilateralFilter(sigma_color, sigma_space, diameter), \n",
        "    T.Normalize(config.NORMALIZE_MEAN, config.NORMALIZE_STD)])\n",
        "\n",
        "train_dataset_with_augmentation = dataset.CcncsaDataset(\n",
        "    X_train, Y_train, image_transform_with_augmentation, target_transform)\n",
        "    \n",
        "model = fast_scnn.FastSCNN(n_classes)\n",
        "\n",
        "config[\"transform\"] = \"color_jitter\"\n",
        "\n",
        "tune.run(partial(training_and_testing.train_model,\n",
        "                 device=device, model=model, dataset=train_dataset_with_augmentation, n_epochs=n_epochs,\n",
        "                 score_fn=score_fn, loss_fn=loss_fn, optimizer=optimizer, num_workers=(0, 0),\n",
        "                 evaluate=True, class_weights=class_weights),\n",
        "         config=config,\n",
        "         num_samples=num_samples,\n",
        "         resources_per_trial={\"cpu\": cpus_per_trial, \"gpu\": gpus_per_trial},\n",
        "         progress_reporter=reporter,\n",
        "         checkpoint_at_end=True,\n",
        "         checkpoint_freq=1,\n",
        "         local_dir=local_dir)"
      ]
    },
    {
      "cell_type": "code",
      "execution_count": null,
      "metadata": {
        "id": "AUA9IB-DZpJF"
      },
      "outputs": [],
      "source": [
        "# === training with augmentation: horizontal_flip ===\n",
        "\n",
        "image_transform_with_augmentation = T.Compose([\n",
        "    horizontal_flip,\n",
        "    T.Resize(slurm_config.GLOBAL_INPUT_SIZE_TRAINING_DEMO), \n",
        "    custom_transforms.BilateralFilter(sigma_color, sigma_space, diameter), \n",
        "    T.Normalize(config.NORMALIZE_MEAN, config.NORMALIZE_STD)])\n",
        "\n",
        "target_transform_with_augmentation = T.Compose([\n",
        "    horizontal_flip,\n",
        "    T.Resize(slurm_config.GLOBAL_INPUT_SIZE_TRAINING_DEMO)])\n",
        "\n",
        "train_dataset_with_augmentation = dataset.CcncsaDataset(\n",
        "    X_train, Y_train, image_transform_with_augmentation, target_transform_with_augmentation)\n",
        "    \n",
        "model = fast_scnn.FastSCNN(n_classes)\n",
        "\n",
        "config[\"transform\"] = \"horizontal_flip\"\n",
        "\n",
        "tune.run(partial(training_and_testing.train_model,\n",
        "                 device=device, model=model, dataset=train_dataset_with_augmentation, n_epochs=n_epochs,\n",
        "                 score_fn=score_fn, loss_fn=loss_fn, optimizer=optimizer, num_workers=(0, 0),\n",
        "                 evaluate=True, class_weights=class_weights),\n",
        "         config=config,\n",
        "         num_samples=num_samples,\n",
        "         resources_per_trial={\"cpu\": cpus_per_trial, \"gpu\": gpus_per_trial},\n",
        "         progress_reporter=reporter,\n",
        "         checkpoint_at_end=True,\n",
        "         checkpoint_freq=1,\n",
        "         local_dir=local_dir)"
      ]
    },
    {
      "cell_type": "code",
      "execution_count": null,
      "metadata": {
        "id": "M0iJkKYbZpJG"
      },
      "outputs": [],
      "source": [
        "# === training with augmentation: center_crop ===\n",
        "\n",
        "image_transform_with_augmentation = T.Compose([\n",
        "    center_crop,\n",
        "    T.Resize(slurm_config.GLOBAL_INPUT_SIZE_TRAINING_DEMO), \n",
        "    custom_transforms.BilateralFilter(sigma_color, sigma_space, diameter), \n",
        "    T.Normalize(config.NORMALIZE_MEAN, config.NORMALIZE_STD)])\n",
        "\n",
        "target_transform_with_augmentation = T.Compose([\n",
        "    center_crop,\n",
        "    T.Resize(slurm_config.GLOBAL_INPUT_SIZE_TRAINING_DEMO)])\n",
        "\n",
        "train_dataset_with_augmentation = dataset.CcncsaDataset(\n",
        "    X_train, Y_train, image_transform_with_augmentation, target_transform_with_augmentation)\n",
        "\n",
        "model = fast_scnn.FastSCNN(n_classes)\n",
        "\n",
        "config[\"transform\"] = \"center_crop\"\n",
        "\n",
        "tune.run(partial(training_and_testing.train_model,\n",
        "                 device=device, model=model, dataset=train_dataset_with_augmentation, n_epochs=n_epochs,\n",
        "                 score_fn=score_fn, loss_fn=loss_fn, optimizer=optimizer, num_workers=(0, 0),\n",
        "                 evaluate=True, class_weights=class_weights),\n",
        "         config=config,\n",
        "         num_samples=num_samples,\n",
        "         resources_per_trial={\"cpu\": cpus_per_trial, \"gpu\": gpus_per_trial},\n",
        "         progress_reporter=reporter,\n",
        "         checkpoint_at_end=True,\n",
        "         checkpoint_freq=1,\n",
        "         local_dir=local_dir)"
      ]
    },
    {
      "cell_type": "code",
      "execution_count": null,
      "metadata": {
        "id": "3j8rOY3ilJDN"
      },
      "outputs": [],
      "source": [
        "%tensorboard --logdir {local_dir}"
      ]
    }
  ],
  "metadata": {
    "accelerator": "GPU",
    "colab": {
      "provenance": []
    },
    "gpuClass": "standard",
    "kernelspec": {
      "display_name": "cv",
      "language": "python",
      "name": "python3"
    },
    "language_info": {
      "codemirror_mode": {
        "name": "ipython",
        "version": 3
      },
      "file_extension": ".py",
      "mimetype": "text/x-python",
      "name": "python",
      "nbconvert_exporter": "python",
      "pygments_lexer": "ipython3",
      "version": "3.9.6 (default, Oct 18 2022, 12:41:40) \n[Clang 14.0.0 (clang-1400.0.29.202)]"
    },
    "orig_nbformat": 4,
    "vscode": {
      "interpreter": {
        "hash": "bff6c79cdac020ac98a972002b5dbe7766c5a0fccfcd9b44550d7582f6eef17b"
      }
    }
  },
  "nbformat": 4,
  "nbformat_minor": 0
}
