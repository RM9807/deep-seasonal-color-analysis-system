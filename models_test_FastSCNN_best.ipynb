{
  "cells": [
    {
      "cell_type": "code",
      "execution_count": null,
      "metadata": {
        "colab": {
          "base_uri": "https://localhost:8080/"
        },
        "id": "8ulxDNcSNOq9",
        "outputId": "8ab467ed-f1e5-45e5-b5cd-2d9a53110dd7",
        "pycharm": {
          "is_executing": true
        }
      },
      "outputs": [],
      "source": [
        "# === colab configuration ===\n",
        "# p.s. when training on colab, weights are saved on Drive (directory DSCAS/weights).\n",
        "# p.p.s. skip this cell if running demo file locally!\n",
        "\n",
        "! pip install torch-summary\n",
        "! pip install ray\n",
        "from google.colab import drive\n",
        "import sys\n",
        "\n",
        "# setting paths\n",
        "repository_path = '/content/deep-seasonal-color-analysis-system/'\n",
        "dataset_path = repository_path + 'headsegmentation_dataset_ccncsa/'\n",
        "dataset_path_drive = '/content/drive/MyDrive/DSCAS/headsegmentation_dataset_ccncsa/'\n",
        "weights_path = repository_path + 'models/weights/'\n",
        "weights_path_drive = '/content/drive/MyDrive/DSCAS/weights/'\n",
        "sys.path.insert(0, repository_path)\n",
        "\n",
        "# cloning project repository and downloading dataset\n",
        "drive.mount('/content/drive')\n",
        "! test ! -d $repository_path && git clone https://github.com/mrcmich/deep-seasonal-color-analysis-system.git\n",
        "! test ! -d $dataset_path && cp -R $dataset_path_drive $dataset_path\n",
        "%cd $repository_path\n",
        "\n",
        "# setting branch and pulling updates\n",
        "branch = 'main__fastscnn_hyperparameters_tuning'\n",
        "! git checkout $branch\n",
        "! git pull origin $branch\n",
        "\n",
        "executing_on_colab = True"
      ]
    },
    {
      "cell_type": "code",
      "execution_count": null,
      "metadata": {
        "id": "PUNWSumyhhyN"
      },
      "outputs": [],
      "source": [
        "import torch\n",
        "from torch import nn\n",
        "import torchvision.transforms as T\n",
        "from sklearn.model_selection import train_test_split\n",
        "from models import dataset, training_and_testing\n",
        "from models.local.FastSCNN.models import fast_scnn\n",
        "from metrics_and_losses import metrics\n",
        "from utils import segmentation_labels, utils, custom_transforms\n",
        "import matplotlib.pyplot as plt\n",
        "from palette_classification import color_processing\n",
        "from models import config\n",
        "\n",
        "try:\n",
        "  executing_on_colab\n",
        "except NameError:\n",
        "  executing_on_colab = False\n",
        "  weights_path = config.WEIGHTS_PATH\n",
        "  dataset_path = config.DATASET_PATH"
      ]
    },
    {
      "cell_type": "code",
      "execution_count": null,
      "metadata": {
        "colab": {
          "base_uri": "https://localhost:8080/"
        },
        "id": "OFs1vTpH6Fbe",
        "outputId": "7e952ad8-9161-4281-ebe0-56cd3ded6041"
      },
      "outputs": [],
      "source": [
        "# defining transforms\n",
        "tH, tW = 256, 256\n",
        "bilateral_filter = custom_transforms.BilateralFilter(sigma_color=50, sigma_space=100, diameter=7)\n",
        "test_image_transform = T.Compose([\n",
        "    T.Resize((tH, tW)),\n",
        "    bilateral_filter,\n",
        "    T.Normalize(config.NORMALIZE_MEAN, config.NORMALIZE_STD)])\n",
        "test_target_transform = T.Compose([T.Resize((tH, tW))])\n",
        "\n",
        "# fetching dataset\n",
        "n_classes = len(segmentation_labels.labels)\n",
        "img_paths, label_paths = dataset.get_paths(dataset_path, file_name=config.DATASET_INDEX_NAME)\n",
        "_, X_test, _, Y_test = train_test_split(img_paths, label_paths, test_size=0.20, random_state=99, shuffle=True)\n",
        "test_dataset = dataset.CcncsaDataset(X_test, Y_test, test_image_transform, test_target_transform)\n",
        "\n",
        "# loading best model\n",
        "model_name = 'fastscnn_ccncsa_best'\n",
        "model = fast_scnn.FastSCNN(n_classes)\n",
        "model = nn.DataParallel(model)\n",
        "model.load_state_dict(torch.load(weights_path + model_name + '.pth'))\n",
        "\n",
        "# testing model on test dataset\n",
        "batch_size = 32\n",
        "device = 'cuda' if torch.cuda.is_available() else 'cpu'\n",
        "test_score_fn = metrics.batch_IoU\n",
        "class_weights = torch.tensor(config.CLASS_WEIGHTS, device=device)\n",
        "batch_IoU = training_and_testing.test_model(device, model, test_dataset, batch_size, test_score_fn)\n",
        "\n",
        "# printing test report\n",
        "training_and_testing.print_IoU_report(batch_IoU, class_weights)"
      ]
    },
    {
      "cell_type": "code",
      "execution_count": null,
      "metadata": {
        "colab": {
          "base_uri": "https://localhost:8080/",
          "height": 1000
        },
        "id": "59EI-_XThhyS",
        "outputId": "8713f89c-1f51-48c0-ba4b-ce2bc128b8cb"
      },
      "outputs": [],
      "source": [
        "# plotting some examples from test dataset\n",
        "utils.plot_random_examples(device, model, test_dataset, n_examples=5)"
      ]
    }
  ],
  "metadata": {
    "accelerator": "GPU",
    "colab": {
      "provenance": []
    },
    "gpuClass": "standard",
    "kernelspec": {
      "display_name": "cv",
      "language": "python",
      "name": "python3"
    },
    "language_info": {
      "codemirror_mode": {
        "name": "ipython",
        "version": 3
      },
      "file_extension": ".py",
      "mimetype": "text/x-python",
      "name": "python",
      "nbconvert_exporter": "python",
      "pygments_lexer": "ipython3",
      "version": "3.9.6"
    },
    "orig_nbformat": 4,
    "vscode": {
      "interpreter": {
        "hash": "bff6c79cdac020ac98a972002b5dbe7766c5a0fccfcd9b44550d7582f6eef17b"
      }
    }
  },
  "nbformat": 4,
  "nbformat_minor": 0
}
