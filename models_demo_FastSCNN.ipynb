{
 "cells": [
  {
   "cell_type": "code",
   "execution_count": null,
   "metadata": {},
   "outputs": [],
   "source": [
    "import torch\n",
    "from torch import nn\n",
    "import torchvision.transforms as T\n",
    "from sklearn.model_selection import train_test_split\n",
    "from models import dataset, training_and_testing\n",
    "from models.FastSCNN.models import fast_scnn\n",
    "from metrics_and_losses import metrics\n",
    "from utils import segmentation_labels"
   ]
  },
  {
   "cell_type": "code",
   "execution_count": null,
   "metadata": {},
   "outputs": [],
   "source": [
    "# configuration\n",
    "model_name = 'fast_scnn_ccncsa'\n",
    "weights_path = \"models/weights/\"\n",
    "dataset_path = \"headsegmentation_dataset_ccncsa/\""
   ]
  },
  {
   "cell_type": "code",
   "execution_count": null,
   "metadata": {},
   "outputs": [],
   "source": [
    "# defining transforms\n",
    "tH, tW = 256, 256\n",
    "mean, std = [0.485, 0.456, 0.406], [0.229, 0.224, 0.225] # from ImageNet\n",
    "image_transform = T.Compose([T.Resize((tH, tW)), T.Normalize(mean, std)])\n",
    "target_transform = T.Compose([T.Resize((tH, tW))])\n",
    "\n",
    "# fetching dataset\n",
    "n_classes = len(segmentation_labels.labels)\n",
    "img_paths, label_paths = dataset.get_paths(dataset_path + 'training.xml')\n",
    "X_train, X_test, Y_train, Y_test = train_test_split(img_paths, label_paths, test_size=0.20, random_state=99, shuffle=True)\n",
    "train_dataset = dataset.MyDataset(X_train, Y_train, image_transform, target_transform)\n",
    "test_dataset = dataset.MyDataset(X_test, Y_test, image_transform, target_transform)"
   ]
  },
  {
   "cell_type": "code",
   "execution_count": null,
   "metadata": {},
   "outputs": [],
   "source": [
    "# training hyperparameters\n",
    "device = 'cpu'\n",
    "batch_size = 64\n",
    "n_epochs = 15\n",
    "\n",
    "# model, loss, score function\n",
    "model = fast_scnn.FastSCNN(n_classes)\n",
    "loss_fn = nn.CrossEntropyLoss()\n",
    "score_fn = metrics.batch_mIoU\n",
    "\n",
    "# optimizer\n",
    "learning_rate = 0.01\n",
    "momentum = 0.8\n",
    "optimizer = torch.optim.SGD(model.parameters(), lr=learning_rate, momentum=momentum)\n",
    "\n",
    "# learning rate scheduler\n",
    "step_size = 5\n",
    "gamma = 0.1\n",
    "lr_scheduler = torch.optim.lr_scheduler.StepLR(optimizer, step_size=step_size, gamma=gamma)"
   ]
  },
  {
   "cell_type": "code",
   "execution_count": null,
   "metadata": {},
   "outputs": [],
   "source": [
    "# training\n",
    "results = training_and_testing.train_model(\n",
    "    device, model, train_dataset, batch_size, n_epochs, score_fn, loss_fn, optimizer, lr_scheduler, evaluate=True, verbose=True)"
   ]
  },
  {
   "cell_type": "code",
   "execution_count": null,
   "metadata": {},
   "outputs": [],
   "source": [
    "# plotting training results\n",
    "training_and_testing.plot_training_results(results, plotsize=(20, 6))"
   ]
  },
  {
   "cell_type": "code",
   "execution_count": null,
   "metadata": {},
   "outputs": [],
   "source": [
    "# resetting model, optimizer, learning rate scheduler\n",
    "final_model = fast_scnn.FastSCNN(n_classes)\n",
    "final_optimizer = torch.optim.SGD(final_model.parameters(), lr=learning_rate, momentum=momentum)\n",
    "final_lr_scheduler = torch.optim.lr_scheduler.StepLR(optimizer, step_size=step_size, gamma=gamma)\n",
    "\n",
    "# re-training model on entire training set\n",
    "final_n_epochs = n_epochs\n",
    "training_and_testing.train_model(\n",
    "    device, final_model, train_dataset, batch_size, final_n_epochs, score_fn, loss_fn, final_optimizer, final_lr_scheduler)\n",
    "\n",
    "# saving model parameters and testing model on test dataset\n",
    "torch.save(final_model.state_dict(), weights_path + model_name + '.pth')\n",
    "batch_mIoU = training_and_testing.test_model(device, final_model, test_dataset, batch_size, score_fn)\n",
    "print(f'batch_mIoU[test]={batch_mIoU}.')"
   ]
  }
 ],
 "metadata": {
  "kernelspec": {
   "display_name": "Python 3.10.4 ('cvcs-project')",
   "language": "python",
   "name": "python3"
  },
  "language_info": {
   "codemirror_mode": {
    "name": "ipython",
    "version": 3
   },
   "file_extension": ".py",
   "mimetype": "text/x-python",
   "name": "python",
   "nbconvert_exporter": "python",
   "pygments_lexer": "ipython3",
   "version": "3.10.4"
  },
  "orig_nbformat": 4,
  "vscode": {
   "interpreter": {
    "hash": "aa8fc678e1e6eb55adbd5c8f3df84f733d95437090d8c308c127d6b5cc24274f"
   }
  }
 },
 "nbformat": 4,
 "nbformat_minor": 2
}
