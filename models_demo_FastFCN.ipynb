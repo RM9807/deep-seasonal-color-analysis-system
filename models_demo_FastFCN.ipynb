{
 "cells": [
  {
   "cell_type": "code",
   "execution_count": 1,
   "metadata": {},
   "outputs": [],
   "source": [
    "import torch\n",
    "from torch import nn\n",
    "import torchvision.transforms as T\n",
    "from sklearn.model_selection import train_test_split\n",
    "from models import dataset, training_and_testing\n",
    "from models.FastFCN.models import fcn\n",
    "from metrics_and_losses import metrics\n",
    "from utils import segmentation_labels"
   ]
  },
  {
   "cell_type": "code",
   "execution_count": 2,
   "metadata": {},
   "outputs": [],
   "source": [
    "# configuration\n",
    "model_name = 'fast_fcn_ccncsa'\n",
    "weights_path = \"models/weights/\"\n",
    "dataset_path = \"headsegmentation_dataset_ccncsa/\""
   ]
  },
  {
   "cell_type": "code",
   "execution_count": 3,
   "metadata": {},
   "outputs": [],
   "source": [
    "# defining transforms\n",
    "tH, tW = 256, 256\n",
    "mean, std = [0.485, 0.456, 0.406], [0.229, 0.224, 0.225] # from ImageNet\n",
    "image_transform = T.Compose([T.Resize((tH, tW)), T.Normalize(mean, std)])\n",
    "target_transform = T.Compose([T.Resize((tH, tW))])\n",
    "\n",
    "# fetching dataset\n",
    "n_classes = len(segmentation_labels.labels)\n",
    "img_paths, label_paths = dataset.get_paths(dataset_path + 'training.xml')\n",
    "X_train, X_test, Y_train, Y_test = train_test_split(img_paths, label_paths, test_size=0.20, random_state=99, shuffle=True)\n",
    "train_dataset = dataset.MyDataset(X_train, Y_train, image_transform, target_transform)\n",
    "test_dataset = dataset.MyDataset(X_test, Y_test, image_transform, target_transform)"
   ]
  },
  {
   "cell_type": "code",
   "execution_count": 4,
   "metadata": {},
   "outputs": [],
   "source": [
    "# training hyperparameters\n",
    "device = 'cpu'\n",
    "batch_size = 64\n",
    "n_epochs = 50\n",
    "\n",
    "# model, loss, score function\n",
    "model = fcn.FCN(nclass=n_classes, backbone=\"resnet50\")\n",
    "loss_fn = nn.CrossEntropyLoss()\n",
    "score_fn = metrics.batch_mIoU\n",
    "\n",
    "# optimizer\n",
    "learning_rate = 0.01\n",
    "optimizer = torch.optim.Adam(model.parameters(), lr=learning_rate)"
   ]
  },
  {
   "cell_type": "code",
   "execution_count": null,
   "metadata": {},
   "outputs": [],
   "source": [
    "# training\n",
    "results = training_and_testing.train_model(\n",
    "    device, model, test_dataset, batch_size, n_epochs, score_fn, loss_fn, optimizer, lr_scheduler=None, evaluate=True, verbose=True)"
   ]
  },
  {
   "cell_type": "code",
   "execution_count": null,
   "metadata": {},
   "outputs": [],
   "source": [
    "# plotting training results\n",
    "training_and_testing.plot_training_results(results, plotsize=(20, 6))"
   ]
  },
  {
   "cell_type": "code",
   "execution_count": null,
   "metadata": {},
   "outputs": [],
   "source": [
    "# resetting model, optimizer, learning rate scheduler\n",
    "final_model = fcn.FCN(nclass=n_classes, backbone=\"resnet50\")\n",
    "final_optimizer = torch.optim.Adam(final_model.parameters(), lr=learning_rate)\n",
    "\n",
    "# re-training model on entire training set and saving its weights\n",
    "final_n_epochs = 25\n",
    "training_and_testing.train_model(\n",
    "    device, final_model, train_dataset, batch_size, final_n_epochs, score_fn, loss_fn, final_optimizer, verbose=True)\n",
    "torch.save(final_model.state_dict(), weights_path + model_name + '.pth')"
   ]
  },
  {
   "cell_type": "code",
   "execution_count": null,
   "metadata": {},
   "outputs": [],
   "source": [
    "# testing model on test dataset\n",
    "batch_mIoU = training_and_testing.test_model(device, final_model, test_dataset, batch_size, score_fn)\n",
    "print(f'batch_mIoU[test]={batch_mIoU}.')"
   ]
  }
 ],
 "metadata": {
  "kernelspec": {
   "display_name": "Python 3.8.8 ('base')",
   "language": "python",
   "name": "python3"
  },
  "language_info": {
   "codemirror_mode": {
    "name": "ipython",
    "version": 3
   },
   "file_extension": ".py",
   "mimetype": "text/x-python",
   "name": "python",
   "nbconvert_exporter": "python",
   "pygments_lexer": "ipython3",
   "version": "3.8.8"
  },
  "orig_nbformat": 4,
  "vscode": {
   "interpreter": {
    "hash": "9ac88fb7088578c98ddf37923d050ab762e45c42e2a44ad2a5e146f45afe37fd"
   }
  }
 },
 "nbformat": 4,
 "nbformat_minor": 2
}
