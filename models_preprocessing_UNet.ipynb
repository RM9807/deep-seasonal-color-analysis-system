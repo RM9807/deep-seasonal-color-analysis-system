{
  "cells": [
    {
      "cell_type": "code",
      "execution_count": null,
      "metadata": {
        "id": "8ulxDNcSNOq9"
      },
      "outputs": [],
      "source": [
        "# === colab configuration ===\n",
        "# p.s. when training on colab, weights are saved on Drive (directory DSCAS/weights).\n",
        "# p.p.s. skip this cell if running demo file locally!\n",
        "\n",
        "! pip install torch-summary\n",
        "! pip install ray\n",
        "! pip install tensorboardX==2.5.1\n",
        "! pip install tensorboard==2.11.2\n",
        "from google.colab import drive\n",
        "import sys\n",
        "\n",
        "# setting paths\n",
        "repository_path = '/content/deep-seasonal-color-analysis-system/'\n",
        "dataset_path = repository_path + 'headsegmentation_dataset_ccncsa/'\n",
        "dataset_path_drive = '/content/drive/MyDrive/DSCAS/headsegmentation_dataset_ccncsa/'\n",
        "weights_path = repository_path + 'models/weights/'\n",
        "weights_path_drive = '/content/drive/MyDrive/DSCAS/weights/'\n",
        "checkpoint_path = repository_path + 'models/preprocessing/'\n",
        "sys.path.insert(0, repository_path)\n",
        "\n",
        "# cloning project repository and downloading dataset\n",
        "drive.mount('/content/drive')\n",
        "! test ! -d $repository_path && git clone https://github.com/mrcmich/deep-seasonal-color-analysis-system.git\n",
        "! test ! -d $dataset_path && cp -R $dataset_path_drive $dataset_path\n",
        "%cd $repository_path\n",
        "\n",
        "# setting branch and pulling updates\n",
        "branch = 'main__fastscnn_hyperparameters_tuning'\n",
        "! git checkout $branch\n",
        "! git pull origin $branch\n",
        "\n",
        "executing_on_colab = True"
      ]
    },
    {
      "cell_type": "code",
      "execution_count": 10,
      "metadata": {
        "id": "PUNWSumyhhyN"
      },
      "outputs": [],
      "source": [
        "import torch\n",
        "from torch import nn, optim\n",
        "import torchvision.transforms as T\n",
        "from sklearn.model_selection import train_test_split\n",
        "from models import dataset, training_and_testing\n",
        "from models.cloud.UNet import unet\n",
        "from metrics_and_losses import metrics\n",
        "from utils import segmentation_labels, custom_transforms, model_names\n",
        "from models import config\n",
        "from slurm_scripts import slurm_config\n",
        "from ray import tune\n",
        "from ray.tune import CLIReporter\n",
        "from functools import partial\n",
        "\n",
        "try:\n",
        "  executing_on_colab\n",
        "except NameError:\n",
        "  executing_on_colab = False\n",
        "  weights_path = config.WEIGHTS_PATH\n",
        "  dataset_path = config.DATASET_PATH\n",
        "  checkpoint_path = config.PREPROCESSING_PATH"
      ]
    },
    {
      "cell_type": "code",
      "execution_count": 3,
      "metadata": {
        "id": "pSBN1RIFhhyP"
      },
      "outputs": [],
      "source": [
        "# === defining transforms ===\n",
        "\n",
        "diameter = 7\n",
        "sigma_color = 50\n",
        "sigma_space = 100\n",
        "horizontal_flip = custom_transforms.PartiallyDeterministicHorizontalFlip(p=0.5)\n",
        "center_crop = custom_transforms.PartiallyDeterministicCenterCrop(p=0.5)\n",
        "\n",
        "image_transform = T.Compose([\n",
        "    T.Resize(slurm_config.GLOBAL_INPUT_SIZE_TRAINING_DEMO), \n",
        "    custom_transforms.BilateralFilter(sigma_color, sigma_space, diameter), \n",
        "    T.Normalize(config.NORMALIZE_MEAN, config.NORMALIZE_STD)])\n",
        "\n",
        "target_transform = T.Compose([T.Resize(slurm_config.GLOBAL_INPUT_SIZE_TRAINING_DEMO)])\n",
        "\n",
        "# fetching dataset\n",
        "n_classes = len(segmentation_labels.labels)\n",
        "img_paths, label_paths = dataset.get_paths(dataset_path, file_name=config.DATASET_INDEX_NAME)\n",
        "X_train, _, Y_train, _ = train_test_split(img_paths, label_paths, test_size=0.20, random_state=99, shuffle=True)\n",
        "train_dataset = dataset.CcncsaDataset(X_train, Y_train, image_transform, target_transform)\n",
        "\n",
        "# model parameters\n",
        "model_name = \"unet\"\n",
        "model = unet.UNet(out_channels=n_classes)\n",
        "optimizer = optim.Adam\n",
        "\n",
        "# setting up hyperparameters for training\n",
        "device = 'cuda' if torch.cuda.is_available() else 'cpu'\n",
        "n_epochs = 10\n",
        "batch_size = 32\n",
        "loss_fn = nn.CrossEntropyLoss()\n",
        "score_fn = metrics.batch_mIoU\n",
        "learning_rate = 0.01\n",
        "class_weights = torch.tensor(config.CLASS_WEIGHTS, device=device)\n",
        "\n",
        "# Ray Tune parameters\n",
        "cpus_per_trial = 0\n",
        "gpus_per_trial = torch.cuda.device_count()\n",
        "num_samples = 1  # Number of times each combination is sampled (n_epochs are done per sample)\n",
        "metric = \"val_loss\"\n",
        "metrics_columns = [\"train_loss\", \"train_score\", \"val_loss\", \"val_score\", \"training_iteration\"]\n",
        "local_dir = checkpoint_path + model_names.MODEL_NAMES[model_name]\n",
        "max_report_frequency = 600\n",
        "reporter = CLIReporter(\n",
        "    metric_columns=metrics_columns, max_report_frequency=max_report_frequency)"
      ]
    },
    {
      "cell_type": "code",
      "execution_count": 6,
      "metadata": {
        "colab": {
          "base_uri": "https://localhost:8080/",
          "height": 1000
        },
        "id": "P9goVLwWZpJF",
        "outputId": "2d0dbc6a-4f89-4f1e-90dc-be7d2953f4c3",
        "pycharm": {
          "is_executing": true
        }
      },
      "outputs": [
        {
          "output_type": "stream",
          "name": "stderr",
          "text": [
            "2023-02-02 15:20:41,563\tINFO worker.py:1538 -- Started a local Ray instance.\n",
            "2023-02-02 15:20:45,339\tWARNING worker.py:1851 -- Warning: The actor ImplicitFunc is very large (32 MiB). Check that its definition is not implicitly capturing a large array or other object in scope. Tip: use ray.put() to put large objects in the Ray object store.\n"
          ]
        },
        {
          "output_type": "stream",
          "name": "stdout",
          "text": [
            "== Status ==\n",
            "Current time: 2023-02-02 15:20:46 (running for 00:00:01.88)\n",
            "Memory usage on this node: 4.3/12.7 GiB \n",
            "Using FIFO scheduling algorithm.\n",
            "Resources requested: 0/2 CPUs, 1.0/1 GPUs, 0.0/7.4 GiB heap, 0.0/3.7 GiB objects\n",
            "Result logdir: /content/deep-seasonal-color-analysis-system/models/preprocessing/UNet/train_model_2023-02-02_15-20-43\n",
            "Number of trials: 1/1 (1 RUNNING)\n",
            "+-------------------------+----------+-------------------+\n",
            "| Trial name              | status   | loc               |\n",
            "|-------------------------+----------+-------------------|\n",
            "| train_model_290dc_00000 | RUNNING  | 172.28.0.12:72761 |\n",
            "+-------------------------+----------+-------------------+\n",
            "\n",
            "\n"
          ]
        },
        {
          "output_type": "display_data",
          "data": {
            "text/plain": [
              "<IPython.core.display.HTML object>"
            ],
            "text/html": [
              "<div class=\"trialProgress\">\n",
              "  <h3>Trial Progress</h3>\n",
              "  <table>\n",
              "<thead>\n",
              "<tr><th>Trial name             </th><th>date               </th><th>done  </th><th>episodes_total  </th><th>experiment_id                   </th><th style=\"text-align: right;\">  experiment_tag</th><th>hostname    </th><th style=\"text-align: right;\">  iterations_since_restore</th><th>node_ip    </th><th style=\"text-align: right;\">  pid</th><th style=\"text-align: right;\">  time_since_restore</th><th style=\"text-align: right;\">  time_this_iter_s</th><th style=\"text-align: right;\">  time_total_s</th><th style=\"text-align: right;\">  timestamp</th><th style=\"text-align: right;\">  timesteps_since_restore</th><th>timesteps_total  </th><th style=\"text-align: right;\">  train_loss</th><th style=\"text-align: right;\">  train_score</th><th style=\"text-align: right;\">  training_iteration</th><th>trial_id   </th><th style=\"text-align: right;\">  val_loss</th><th style=\"text-align: right;\">  val_score</th><th style=\"text-align: right;\">  warmup_time</th></tr>\n",
              "</thead>\n",
              "<tbody>\n",
              "<tr><td>train_model_290dc_00000</td><td>2023-02-02_16-22-17</td><td>True  </td><td>                </td><td>b07f328ad882460a91b33cab2359fb2b</td><td style=\"text-align: right;\">               0</td><td>50c3effd8f1c</td><td style=\"text-align: right;\">                        10</td><td>172.28.0.12</td><td style=\"text-align: right;\">72761</td><td style=\"text-align: right;\">             3684.98</td><td style=\"text-align: right;\">            367.48</td><td style=\"text-align: right;\">       3684.98</td><td style=\"text-align: right;\"> 1675354937</td><td style=\"text-align: right;\">                        0</td><td>                 </td><td style=\"text-align: right;\">    0.158486</td><td style=\"text-align: right;\">     0.548049</td><td style=\"text-align: right;\">                  10</td><td>290dc_00000</td><td style=\"text-align: right;\">  0.170216</td><td style=\"text-align: right;\">   0.557993</td><td style=\"text-align: right;\">   0.00695562</td></tr>\n",
              "</tbody>\n",
              "</table>\n",
              "</div>\n",
              "<style>\n",
              ".trialProgress {\n",
              "  display: flex;\n",
              "  flex-direction: column;\n",
              "  color: var(--jp-ui-font-color1);\n",
              "}\n",
              ".trialProgress h3 {\n",
              "  font-weight: bold;\n",
              "}\n",
              ".trialProgress td {\n",
              "  white-space: nowrap;\n",
              "}\n",
              "</style>\n"
            ]
          },
          "metadata": {}
        },
        {
          "output_type": "stream",
          "name": "stdout",
          "text": [
            "== Status ==\n",
            "Current time: 2023-02-02 15:30:50 (running for 00:10:06.16)\n",
            "Memory usage on this node: 7.1/12.7 GiB \n",
            "Using FIFO scheduling algorithm.\n",
            "Resources requested: 0/2 CPUs, 1.0/1 GPUs, 0.0/7.4 GiB heap, 0.0/3.7 GiB objects\n",
            "Result logdir: /content/deep-seasonal-color-analysis-system/models/preprocessing/UNet/train_model_2023-02-02_15-20-43\n",
            "Number of trials: 1/1 (1 RUNNING)\n",
            "+-------------------------+----------+-------------------+--------------+---------------+------------+-------------+----------------------+\n",
            "| Trial name              | status   | loc               |   train_loss |   train_score |   val_loss |   val_score |   training_iteration |\n",
            "|-------------------------+----------+-------------------+--------------+---------------+------------+-------------+----------------------|\n",
            "| train_model_290dc_00000 | RUNNING  | 172.28.0.12:72761 |     0.727117 |      0.328022 |   0.657559 |    0.349283 |                    1 |\n",
            "+-------------------------+----------+-------------------+--------------+---------------+------------+-------------+----------------------+\n",
            "\n",
            "\n",
            "== Status ==\n",
            "Current time: 2023-02-02 15:40:50 (running for 00:20:06.54)\n",
            "Memory usage on this node: 7.1/12.7 GiB \n",
            "Using FIFO scheduling algorithm.\n",
            "Resources requested: 0/2 CPUs, 1.0/1 GPUs, 0.0/7.4 GiB heap, 0.0/3.7 GiB objects\n",
            "Result logdir: /content/deep-seasonal-color-analysis-system/models/preprocessing/UNet/train_model_2023-02-02_15-20-43\n",
            "Number of trials: 1/1 (1 RUNNING)\n",
            "+-------------------------+----------+-------------------+--------------+---------------+------------+-------------+----------------------+\n",
            "| Trial name              | status   | loc               |   train_loss |   train_score |   val_loss |   val_score |   training_iteration |\n",
            "|-------------------------+----------+-------------------+--------------+---------------+------------+-------------+----------------------|\n",
            "| train_model_290dc_00000 | RUNNING  | 172.28.0.12:72761 |     0.504038 |      0.367186 |    0.50497 |    0.352987 |                    3 |\n",
            "+-------------------------+----------+-------------------+--------------+---------------+------------+-------------+----------------------+\n",
            "\n",
            "\n",
            "== Status ==\n",
            "Current time: 2023-02-02 15:50:52 (running for 00:30:07.95)\n",
            "Memory usage on this node: 7.1/12.7 GiB \n",
            "Using FIFO scheduling algorithm.\n",
            "Resources requested: 0/2 CPUs, 1.0/1 GPUs, 0.0/7.4 GiB heap, 0.0/3.7 GiB objects\n",
            "Result logdir: /content/deep-seasonal-color-analysis-system/models/preprocessing/UNet/train_model_2023-02-02_15-20-43\n",
            "Number of trials: 1/1 (1 RUNNING)\n",
            "+-------------------------+----------+-------------------+--------------+---------------+------------+-------------+----------------------+\n",
            "| Trial name              | status   | loc               |   train_loss |   train_score |   val_loss |   val_score |   training_iteration |\n",
            "|-------------------------+----------+-------------------+--------------+---------------+------------+-------------+----------------------|\n",
            "| train_model_290dc_00000 | RUNNING  | 172.28.0.12:72761 |     0.432921 |       0.38075 |   0.415777 |    0.395513 |                    4 |\n",
            "+-------------------------+----------+-------------------+--------------+---------------+------------+-------------+----------------------+\n",
            "\n",
            "\n",
            "== Status ==\n",
            "Current time: 2023-02-02 16:00:55 (running for 00:40:11.15)\n",
            "Memory usage on this node: 7.1/12.7 GiB \n",
            "Using FIFO scheduling algorithm.\n",
            "Resources requested: 0/2 CPUs, 1.0/1 GPUs, 0.0/7.4 GiB heap, 0.0/3.7 GiB objects\n",
            "Result logdir: /content/deep-seasonal-color-analysis-system/models/preprocessing/UNet/train_model_2023-02-02_15-20-43\n",
            "Number of trials: 1/1 (1 RUNNING)\n",
            "+-------------------------+----------+-------------------+--------------+---------------+------------+-------------+----------------------+\n",
            "| Trial name              | status   | loc               |   train_loss |   train_score |   val_loss |   val_score |   training_iteration |\n",
            "|-------------------------+----------+-------------------+--------------+---------------+------------+-------------+----------------------|\n",
            "| train_model_290dc_00000 | RUNNING  | 172.28.0.12:72761 |     0.304402 |      0.417973 |   0.348549 |    0.406924 |                    6 |\n",
            "+-------------------------+----------+-------------------+--------------+---------------+------------+-------------+----------------------+\n",
            "\n",
            "\n",
            "== Status ==\n",
            "Current time: 2023-02-02 16:10:55 (running for 00:50:11.59)\n",
            "Memory usage on this node: 7.1/12.7 GiB \n",
            "Using FIFO scheduling algorithm.\n",
            "Resources requested: 0/2 CPUs, 1.0/1 GPUs, 0.0/7.4 GiB heap, 0.0/3.7 GiB objects\n",
            "Result logdir: /content/deep-seasonal-color-analysis-system/models/preprocessing/UNet/train_model_2023-02-02_15-20-43\n",
            "Number of trials: 1/1 (1 RUNNING)\n",
            "+-------------------------+----------+-------------------+--------------+---------------+------------+-------------+----------------------+\n",
            "| Trial name              | status   | loc               |   train_loss |   train_score |   val_loss |   val_score |   training_iteration |\n",
            "|-------------------------+----------+-------------------+--------------+---------------+------------+-------------+----------------------|\n",
            "| train_model_290dc_00000 | RUNNING  | 172.28.0.12:72761 |     0.210355 |      0.484137 |   0.217029 |    0.481065 |                    8 |\n",
            "+-------------------------+----------+-------------------+--------------+---------------+------------+-------------+----------------------+\n",
            "\n",
            "\n",
            "== Status ==\n",
            "Current time: 2023-02-02 16:21:00 (running for 01:00:16.46)\n",
            "Memory usage on this node: 7.1/12.7 GiB \n",
            "Using FIFO scheduling algorithm.\n",
            "Resources requested: 0/2 CPUs, 1.0/1 GPUs, 0.0/7.4 GiB heap, 0.0/3.7 GiB objects\n",
            "Result logdir: /content/deep-seasonal-color-analysis-system/models/preprocessing/UNet/train_model_2023-02-02_15-20-43\n",
            "Number of trials: 1/1 (1 RUNNING)\n",
            "+-------------------------+----------+-------------------+--------------+---------------+------------+-------------+----------------------+\n",
            "| Trial name              | status   | loc               |   train_loss |   train_score |   val_loss |   val_score |   training_iteration |\n",
            "|-------------------------+----------+-------------------+--------------+---------------+------------+-------------+----------------------|\n",
            "| train_model_290dc_00000 | RUNNING  | 172.28.0.12:72761 |     0.180213 |      0.520545 |   0.187386 |    0.508878 |                    9 |\n",
            "+-------------------------+----------+-------------------+--------------+---------------+------------+-------------+----------------------+\n",
            "\n",
            "\n"
          ]
        },
        {
          "output_type": "stream",
          "name": "stderr",
          "text": [
            "2023-02-02 16:22:18,106\tINFO tune.py:762 -- Total run time: 3695.17 seconds (3693.80 seconds for the tuning loop).\n"
          ]
        },
        {
          "output_type": "stream",
          "name": "stdout",
          "text": [
            "== Status ==\n",
            "Current time: 2023-02-02 16:22:17 (running for 01:01:33.80)\n",
            "Memory usage on this node: 7.1/12.7 GiB \n",
            "Using FIFO scheduling algorithm.\n",
            "Resources requested: 0/2 CPUs, 0/1 GPUs, 0.0/7.4 GiB heap, 0.0/3.7 GiB objects\n",
            "Result logdir: /content/deep-seasonal-color-analysis-system/models/preprocessing/UNet/train_model_2023-02-02_15-20-43\n",
            "Number of trials: 1/1 (1 TERMINATED)\n",
            "+-------------------------+------------+-------------------+--------------+---------------+------------+-------------+----------------------+\n",
            "| Trial name              | status     | loc               |   train_loss |   train_score |   val_loss |   val_score |   training_iteration |\n",
            "|-------------------------+------------+-------------------+--------------+---------------+------------+-------------+----------------------|\n",
            "| train_model_290dc_00000 | TERMINATED | 172.28.0.12:72761 |     0.158486 |      0.548049 |   0.170216 |    0.557993 |                   10 |\n",
            "+-------------------------+------------+-------------------+--------------+---------------+------------+-------------+----------------------+\n",
            "\n",
            "\n"
          ]
        },
        {
          "output_type": "execute_result",
          "data": {
            "text/plain": [
              "<ray.tune.analysis.experiment_analysis.ExperimentAnalysis at 0x7fb4112cbe80>"
            ]
          },
          "metadata": {},
          "execution_count": 6
        }
      ],
      "source": [
        "# === training without augmentation ===\n",
        "\n",
        "config = {\n",
        "    \"lr\": learning_rate,\n",
        "    \"lr_scheduler\": \"none\",\n",
        "    \"batch_size\": batch_size,\n",
        "    \"transform\": \"none\",\n",
        "    \"from_checkpoint\": False,\n",
        "    \"checkpoint_dir\": local_dir\n",
        "    }\n",
        "\n",
        "tune.run(partial(training_and_testing.train_model,\n",
        "                 device=device, model=model, dataset=train_dataset, n_epochs=n_epochs,\n",
        "                 score_fn=score_fn, loss_fn=loss_fn, optimizer=optimizer, num_workers=(0, 0),\n",
        "                 evaluate=True, class_weights=class_weights),\n",
        "         config=config,\n",
        "         num_samples=num_samples,\n",
        "         resources_per_trial={\"cpu\": cpus_per_trial, \"gpu\": gpus_per_trial},\n",
        "         progress_reporter=reporter,\n",
        "         checkpoint_at_end=True,\n",
        "         checkpoint_freq=1,\n",
        "         local_dir=local_dir)"
      ]
    },
    {
      "cell_type": "code",
      "execution_count": null,
      "metadata": {
        "id": "W3OpWYa3ZpJF"
      },
      "outputs": [],
      "source": [
        "# === training with augmentation: ColorJitter ===\n",
        "\n",
        "image_transform_with_augmentation = T.Compose([\n",
        "    T.ColorJitter(brightness=0.25, contrast=0.25), \n",
        "    T.Resize(slurm_config.GLOBAL_INPUT_SIZE_TRAINING_DEMO), \n",
        "    custom_transforms.BilateralFilter(sigma_color, sigma_space, diameter), \n",
        "    T.Normalize(config.NORMALIZE_MEAN, config.NORMALIZE_STD)])\n",
        "\n",
        "train_dataset_with_augmentation = dataset.CcncsaDataset(\n",
        "    X_train, Y_train, image_transform_with_augmentation, target_transform)\n",
        "    \n",
        "model = unet.UNet(out_channels=n_classes)\n",
        "\n",
        "config[\"transform\"] = \"color_jitter\"\n",
        "\n",
        "tune.run(partial(training_and_testing.train_model,\n",
        "                 device=device, model=model, dataset=train_dataset_with_augmentation, n_epochs=n_epochs,\n",
        "                 score_fn=score_fn, loss_fn=loss_fn, optimizer=optimizer, num_workers=(0, 0),\n",
        "                 evaluate=True, class_weights=class_weights),\n",
        "         config=config,\n",
        "         num_samples=num_samples,\n",
        "         resources_per_trial={\"cpu\": cpus_per_trial, \"gpu\": gpus_per_trial},\n",
        "         progress_reporter=reporter,\n",
        "         checkpoint_at_end=True,\n",
        "         checkpoint_freq=1,\n",
        "         local_dir=local_dir)"
      ]
    },
    {
      "cell_type": "code",
      "execution_count": null,
      "metadata": {
        "id": "AUA9IB-DZpJF"
      },
      "outputs": [],
      "source": [
        "# === training with augmentation: horizontal_flip ===\n",
        "\n",
        "image_transform_with_augmentation = T.Compose([\n",
        "    horizontal_flip,\n",
        "    T.Resize(slurm_config.GLOBAL_INPUT_SIZE_TRAINING_DEMO), \n",
        "    custom_transforms.BilateralFilter(sigma_color, sigma_space, diameter), \n",
        "    T.Normalize(config.NORMALIZE_MEAN, config.NORMALIZE_STD)])\n",
        "\n",
        "target_transform_with_augmentation = T.Compose([\n",
        "    horizontal_flip,\n",
        "    T.Resize(slurm_config.GLOBAL_INPUT_SIZE_TRAINING_DEMO)])\n",
        "\n",
        "train_dataset_with_augmentation = dataset.CcncsaDataset(\n",
        "    X_train, Y_train, image_transform_with_augmentation, target_transform_with_augmentation)\n",
        "    \n",
        "model = unet.UNet(out_channels=n_classes)\n",
        "\n",
        "config[\"transform\"] = \"horizontal_flip\"\n",
        "\n",
        "tune.run(partial(training_and_testing.train_model,\n",
        "                 device=device, model=model, dataset=train_dataset_with_augmentation, n_epochs=n_epochs,\n",
        "                 score_fn=score_fn, loss_fn=loss_fn, optimizer=optimizer, num_workers=(0, 0),\n",
        "                 evaluate=True, class_weights=class_weights),\n",
        "         config=config,\n",
        "         num_samples=num_samples,\n",
        "         resources_per_trial={\"cpu\": cpus_per_trial, \"gpu\": gpus_per_trial},\n",
        "         progress_reporter=reporter,\n",
        "         checkpoint_at_end=True,\n",
        "         checkpoint_freq=1,\n",
        "         local_dir=local_dir)"
      ]
    },
    {
      "cell_type": "code",
      "execution_count": null,
      "metadata": {
        "id": "M0iJkKYbZpJG"
      },
      "outputs": [],
      "source": [
        "# === training with augmentation: center_crop ===\n",
        "\n",
        "image_transform_with_augmentation = T.Compose([\n",
        "    center_crop,\n",
        "    T.Resize(slurm_config.GLOBAL_INPUT_SIZE_TRAINING_DEMO), \n",
        "    custom_transforms.BilateralFilter(sigma_color, sigma_space, diameter), \n",
        "    T.Normalize(config.NORMALIZE_MEAN, config.NORMALIZE_STD)])\n",
        "\n",
        "target_transform_with_augmentation = T.Compose([\n",
        "    center_crop,\n",
        "    T.Resize(slurm_config.GLOBAL_INPUT_SIZE_TRAINING_DEMO)])\n",
        "\n",
        "train_dataset_with_augmentation = dataset.CcncsaDataset(\n",
        "    X_train, Y_train, image_transform_with_augmentation, target_transform_with_augmentation)\n",
        "\n",
        "model = unet.UNet(out_channels=n_classes)\n",
        "\n",
        "config[\"transform\"] = \"center_crop\"\n",
        "\n",
        "tune.run(partial(training_and_testing.train_model,\n",
        "                 device=device, model=model, dataset=train_dataset_with_augmentation, n_epochs=n_epochs,\n",
        "                 score_fn=score_fn, loss_fn=loss_fn, optimizer=optimizer, num_workers=(0, 0),\n",
        "                 evaluate=True, class_weights=class_weights),\n",
        "         config=config,\n",
        "         num_samples=num_samples,\n",
        "         resources_per_trial={\"cpu\": cpus_per_trial, \"gpu\": gpus_per_trial},\n",
        "         progress_reporter=reporter,\n",
        "         checkpoint_at_end=True,\n",
        "         checkpoint_freq=1,\n",
        "         local_dir=local_dir)"
      ]
    },
    {
      "cell_type": "code",
      "execution_count": null,
      "outputs": [],
      "source": [
        "%tensorboard --logdir {local_dir}"
      ],
      "metadata": {
        "id": "3j8rOY3ilJDN"
      }
    }
  ],
  "metadata": {
    "accelerator": "GPU",
    "colab": {
      "provenance": []
    },
    "gpuClass": "standard",
    "kernelspec": {
      "display_name": "cv",
      "language": "python",
      "name": "python3"
    },
    "language_info": {
      "codemirror_mode": {
        "name": "ipython",
        "version": 3
      },
      "file_extension": ".py",
      "mimetype": "text/x-python",
      "name": "python",
      "nbconvert_exporter": "python",
      "pygments_lexer": "ipython3",
      "version": "3.9.6 (default, Oct 18 2022, 12:41:40) \n[Clang 14.0.0 (clang-1400.0.29.202)]"
    },
    "orig_nbformat": 4,
    "vscode": {
      "interpreter": {
        "hash": "bff6c79cdac020ac98a972002b5dbe7766c5a0fccfcd9b44550d7582f6eef17b"
      }
    }
  },
  "nbformat": 4,
  "nbformat_minor": 0
}