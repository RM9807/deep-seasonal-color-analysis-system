{
  "cells": [
    {
      "cell_type": "code",
      "execution_count": null,
      "metadata": {
        "colab": {
          "base_uri": "https://localhost:8080/"
        },
        "id": "8ulxDNcSNOq9",
        "outputId": "5d6bc556-4598-4caa-c164-8e6085726615",
        "pycharm": {
          "is_executing": true
        }
      },
      "outputs": [],
      "source": [
        "# === colab configuration ===\n",
        "# p.s. when training on colab, weights are saved on Drive (directory DSCAS/weights).\n",
        "# p.p.s. skip this cell if running demo file locally!\n",
        "\n",
        "! pip install torch-summary\n",
        "! pip install ray\n",
        "from google.colab import drive\n",
        "import sys\n",
        "\n",
        "# setting paths\n",
        "repository_path = '/content/deep-seasonal-color-analysis-system/'\n",
        "dataset_path = repository_path + 'headsegmentation_dataset_ccncsa/'\n",
        "dataset_path_drive = '/content/drive/MyDrive/DSCAS/headsegmentation_dataset_ccncsa/'\n",
        "weights_path = repository_path + 'models/weights/'\n",
        "weights_path_drive = '/content/drive/MyDrive/DSCAS/weights/'\n",
        "sys.path.insert(0, repository_path)\n",
        "\n",
        "# cloning project repository and downloading dataset\n",
        "drive.mount('/content/drive')\n",
        "! test ! -d $repository_path && git clone https://github.com/mrcmich/deep-seasonal-color-analysis-system.git\n",
        "! test ! -d $dataset_path && cp -R $dataset_path_drive $dataset_path\n",
        "%cd $repository_path\n",
        "\n",
        "# setting branch and pulling updates\n",
        "branch = 'main__fastscnn_hyperparameters_tuning'\n",
        "! git checkout $branch\n",
        "! git pull origin $branch\n",
        "\n",
        "executing_on_colab = True"
      ]
    },
    {
      "cell_type": "code",
      "execution_count": null,
      "metadata": {
        "colab": {
          "base_uri": "https://localhost:8080/"
        },
        "id": "OFs1vTpH6Fbe",
        "outputId": "3d6aee65-6ef9-427b-92f2-35a5dcd1a0d7",
        "pycharm": {
          "is_executing": true
        }
      },
      "outputs": [],
      "source": [
        "import torch\n",
        "from sklearn.model_selection import train_test_split\n",
        "from models import dataset, training_and_testing\n",
        "from torch.utils.data import Dataset, DataLoader\n",
        "from tqdm import tqdm\n",
        "from models.config import *\n",
        "from PIL import Image\n",
        "import torchvision.transforms as T\n",
        "\n",
        "\n",
        "class MyDataset2(Dataset):\n",
        "    def __init__(self, img_paths):\n",
        "        self.img_paths = img_paths\n",
        "        self.pil_to_tensor = T.Compose([T.PILToTensor()])\n",
        "        \n",
        "    def __len__(self):\n",
        "        return len(self.img_paths)\n",
        "    \n",
        "    def __getitem__(self, index):\n",
        "        image = Image.open(self.img_paths[index]).convert('RGB')\n",
        "        image = self.pil_to_tensor(image)\n",
        "        return image.float() / 255\n",
        "\n",
        "\n",
        "dataset_path = ROOT_DIR + 'headsegmentation_dataset_ccncsa/'\n",
        "# tH, tW = 272, 288  # image sizes must be multiple of 16\n",
        "\n",
        "# fetching dataset\n",
        "img_paths, label_paths = dataset.get_paths(dataset_path, file_name='training.xml')\n",
        "X_train, X_test, Y_train, Y_test = train_test_split(img_paths, label_paths, test_size=0.20, random_state=99, shuffle=True)\n",
        "train_dataset = MyDataset2(X_train)\n",
        "\n",
        "# data loader\n",
        "image_loader = DataLoader(train_dataset, \n",
        "                          batch_size=1, \n",
        "                          drop_last=False)\n",
        "\n",
        "psum = torch.zeros((3), dtype=torch.float32)\n",
        "psum_sq = torch.zeros((3), dtype=torch.float32)\n",
        "count = 0\n",
        "\n",
        "for image in tqdm(image_loader):\n",
        "    psum += image.sum(dim=[0, 2, 3])\n",
        "    psum_sq += (image ** 2).sum(dim=[0, 2, 3])\n",
        "    count += image.shape[2] * image.shape[3]  # pixel count\n",
        "\n",
        "mean = psum / count\n",
        "var  = (psum_sq / count) - (mean ** 2)\n",
        "std  = torch.sqrt(var)\n",
        "print(f'mean: {mean}')\n",
        "print(f'var: {var}')\n",
        "print(f'std: {std}')"
      ]
    }
  ],
  "metadata": {
    "accelerator": "GPU",
    "colab": {
      "provenance": []
    },
    "gpuClass": "standard",
    "kernelspec": {
      "display_name": "dscas",
      "language": "python",
      "name": "python3"
    },
    "language_info": {
      "codemirror_mode": {
        "name": "ipython",
        "version": 3
      },
      "file_extension": ".py",
      "mimetype": "text/x-python",
      "name": "python",
      "nbconvert_exporter": "python",
      "pygments_lexer": "ipython3",
      "version": "3.10.8 | packaged by conda-forge | (main, Nov 24 2022, 14:07:00) [MSC v.1916 64 bit (AMD64)]"
    },
    "orig_nbformat": 4,
    "vscode": {
      "interpreter": {
        "hash": "f8a8707fb11d5d89cf3731e99f3a893eb130d1c029541dff323dda234707d9bf"
      }
    }
  },
  "nbformat": 4,
  "nbformat_minor": 0
}
