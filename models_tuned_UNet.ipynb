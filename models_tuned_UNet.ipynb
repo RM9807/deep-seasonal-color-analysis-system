{
  "cells": [
    {
      "cell_type": "code",
      "execution_count": null,
      "metadata": {
        "colab": {
          "base_uri": "https://localhost:8080/"
        },
        "id": "8ulxDNcSNOq9",
        "outputId": "8c6b264a-2951-4237-f233-165005e2347e"
      },
      "outputs": [],
      "source": [
        "# === colab configuration ===\n",
        "# p.s. when training on colab, weights are saved on Drive (directory DSCAS/weights).\n",
        "# p.p.s. skip this cell if running demo file locally!\n",
        "\n",
        "! pip install torch-summary\n",
        "from google.colab import drive\n",
        "import sys\n",
        "\n",
        "# setting paths\n",
        "repository_path = '/content/deep-seasonal-color-analysis-system/'\n",
        "dataset_path = repository_path + 'headsegmentation_dataset_ccncsa/'\n",
        "dataset_path_drive = '/content/drive/MyDrive/DSCAS/headsegmentation_dataset_ccncsa/'\n",
        "weights_path = repository_path + 'models/weights/'\n",
        "weights_path_drive = '/content/drive/MyDrive/DSCAS/weights/'\n",
        "sys.path.insert(0, repository_path)\n",
        "\n",
        "# cloning project repository and downloading dataset\n",
        "drive.mount('/content/drive')\n",
        "! test ! -d $repository_path && git clone https://github.com/mrcmich/deep-seasonal-color-analysis-system.git\n",
        "! test ! -d $dataset_path && cp -R $dataset_path_drive $dataset_path\n",
        "%cd $repository_path\n",
        "\n",
        "# setting branch and pulling updates\n",
        "branch = 'main__fastscnn_hyperparameters_tuning'\n",
        "! git checkout $branch\n",
        "! git pull origin $branch\n",
        "\n",
        "executing_on_colab = True"
      ]
    },
    {
      "cell_type": "code",
      "execution_count": null,
      "metadata": {
        "id": "PUNWSumyhhyN"
      },
      "outputs": [],
      "source": [
        "import torch\n",
        "from torch import nn, optim\n",
        "import torchvision.transforms as T\n",
        "from sklearn.model_selection import train_test_split\n",
        "from models import dataset, training_and_testing\n",
        "from models.cloud.UNet import unet\n",
        "from metrics_and_losses import metrics\n",
        "from utils import segmentation_labels, utils, custom_transforms\n",
        "import matplotlib.pyplot as plt\n",
        "from palette_classification import color_processing\n",
        "import torchsummary\n",
        "from models.config import *\n",
        "\n",
        "try:\n",
        "  executing_on_colab\n",
        "except NameError:\n",
        "  executing_on_colab = False"
      ]
    },
    {
      "cell_type": "code",
      "execution_count": null,
      "metadata": {
        "id": "1CRI0xDBhhyP"
      },
      "outputs": [],
      "source": [
        "# local configuration\n",
        "if executing_on_colab is False:\n",
        "  weights_path = 'models/weights/'\n",
        "  dataset_path = ROOT_DIR + 'headsegmentation_dataset_ccncsa/'"
      ]
    },
    {
      "cell_type": "code",
      "execution_count": null,
      "metadata": {
        "id": "pSBN1RIFhhyP"
      },
      "outputs": [],
      "source": [
        "# === defining transforms ===\n",
        "\n",
        "tH, tW = 256, 256\n",
        "mean, std = [0.485, 0.456, 0.406], [0.229, 0.224, 0.225] # from ImageNet\n",
        "bilateral_filter = custom_transforms.BilateralFilter(sigma_color=50, sigma_space=100, diameter=7)\n",
        "\n",
        "image_transform = T.Compose([\n",
        "    T.Resize((tH, tW)), \n",
        "    bilateral_filter,\n",
        "    T.Normalize(mean, std)])\n",
        "\n",
        "target_transform = T.Compose([T.Resize((tH, tW))])\n",
        "\n",
        "# fetching dataset\n",
        "n_classes = len(segmentation_labels.labels)\n",
        "img_paths, label_paths = dataset.get_paths(dataset_path, file_name='training.xml')\n",
        "X_train, X_test, Y_train, Y_test = train_test_split(img_paths, label_paths, test_size=0.20, random_state=99, shuffle=True)\n",
        "train_dataset = dataset.MyDataset(X_train, Y_train, image_transform, target_transform)\n",
        "test_dataset = dataset.MyDataset(X_test, Y_test, image_transform, target_transform)"
      ]
    },
    {
      "cell_type": "code",
      "execution_count": null,
      "metadata": {
        "colab": {
          "base_uri": "https://localhost:8080/"
        },
        "id": "EREj36DuhhyQ",
        "outputId": "04201001-3405-460c-ab80-6b3198659652"
      },
      "outputs": [],
      "source": [
        "# training hyperparameters\n",
        "device = 'cuda' if executing_on_colab is True else 'cpu'\n",
        "batch_size = 32 # <-- UPDATE\n",
        "n_epochs = 25\n",
        "\n",
        "# model, loss, score function\n",
        "model_name = 'unet_ccncsa_tuned'\n",
        "model = unet.UNet(out_channels=n_classes)\n",
        "class_weights = torch.tensor(\n",
        "    [0.3762, 0.9946, 0.9974, 0.9855, 0.7569, 0.9140, 0.9968, 0.9936, 0.9989, 0.9893, 0.9968], device=device)\n",
        "loss_fn = nn.CrossEntropyLoss(weight=class_weights)\n",
        "score_fn = metrics.batch_mIoU\n",
        "\n",
        "# optimizer <-- UPDATE\n",
        "learning_rate = 0.01\n",
        "optimizer = optim.AdamW(model.parameters(), lr=learning_rate)\n",
        "\n",
        "# scheduler <-- UPDATE\n",
        "scheduler = optim.lr_scheduler.LinearLR(optimizer, start_factor=0.05)\n",
        "\n",
        "# printing model summary\n",
        "model_summary = torchsummary.summary(model, input_data=(batch_size, 3, tH, tW), batch_dim=None, verbose=0)\n",
        "print(model_summary)"
      ]
    },
    {
      "cell_type": "code",
      "execution_count": null,
      "metadata": {
        "colab": {
          "base_uri": "https://localhost:8080/"
        },
        "id": "p8SkxfQDhhyR",
        "outputId": "8c00aa2d-1d65-4262-946f-f28619464288"
      },
      "outputs": [],
      "source": [
        "# training\n",
        "results = training_and_testing.train_model(\n",
        "    device, model, train_dataset, batch_size, n_epochs, score_fn, loss_fn, optimizer, scheduler, verbose=True)\n",
        "\n",
        "# saving model's weights\n",
        "torch.save(model.state_dict(), weights_path + model_name + '.pth')\n",
        "if executing_on_colab is True:\n",
        "  torch.save(model.state_dict(), weights_path_drive + model_name + '.pth')"
      ]
    },
    {
      "cell_type": "code",
      "execution_count": null,
      "metadata": {
        "colab": {
          "base_uri": "https://localhost:8080/",
          "height": 332
        },
        "id": "2or9suqBhhyR",
        "outputId": "a21e5629-e780-4307-9205-8fc6ab2a66d8"
      },
      "outputs": [],
      "source": [
        "# plotting training results\n",
        "training_and_testing.plot_training_results(results, plotsize=(20, 6))"
      ]
    },
    {
      "cell_type": "code",
      "execution_count": null,
      "metadata": {
        "colab": {
          "base_uri": "https://localhost:8080/"
        },
        "id": "EXxp9DLbhhyS",
        "outputId": "9038cd07-eb0b-44cc-9b8b-e9f8160023b4"
      },
      "outputs": [],
      "source": [
        "# loading tuned model\n",
        "try:\n",
        "    model\n",
        "except:\n",
        "    model = unet.UNet(out_channels=n_classes)\n",
        "    model.load_state_dict(torch.load(weights_path + model_name + '.pth'))\n",
        "\n",
        "# testing model on test dataset\n",
        "test_score_fn = metrics.batch_IoU\n",
        "label_names = list(segmentation_labels.labels.keys())\n",
        "batch_IoU = training_and_testing.test_model(device, model, test_dataset, batch_size, test_score_fn)\n",
        "batch_IoU_with_labels = { label: score for label, score in list(zip(label_names, batch_IoU.tolist())) }\n",
        "batch_mIoU = batch_IoU.mean().item()\n",
        "for label in batch_IoU_with_labels:\n",
        "    print(f'batch_IoU_{label}: {batch_IoU_with_labels[label]}')\n",
        "print(f'batch_mIoU={batch_mIoU}')"
      ]
    },
    {
      "cell_type": "code",
      "execution_count": null,
      "metadata": {
        "colab": {
          "base_uri": "https://localhost:8080/",
          "height": 1000
        },
        "id": "59EI-_XThhyS",
        "outputId": "4654563f-3f56-4da8-a7f7-c300bf5346ad"
      },
      "outputs": [],
      "source": [
        "# === plotting some examples from test dataset ===\n",
        "\n",
        "n_examples = 5\n",
        "random_images = torch.zeros((n_examples, 3, tH, tW))\n",
        "random_targets = torch.zeros((n_examples, n_classes, tH, tW))\n",
        "\n",
        "for i in range(n_examples):\n",
        "    random_idx = torch.randint(high=len(test_dataset), size=(1,))\n",
        "    random_image, random_target = test_dataset[random_idx]\n",
        "    random_images[i] = random_image\n",
        "    random_targets[i] = random_target\n",
        "\n",
        "with torch.no_grad():\n",
        "    model.eval()\n",
        "    random_images = random_images.to(device)\n",
        "    random_output = model(random_images)[0]\n",
        "\n",
        "channels_max, _ = torch.max(random_output, axis=1)\n",
        "random_predictions = (random_output == channels_max.unsqueeze(axis=1)).to('cpu')\n",
        "\n",
        "for i in range(n_examples):\n",
        "    plt.figure(figsize=(12, 6))\n",
        "    plt.subplot(1, 2, 1)\n",
        "    plt.title('Ground Truth')\n",
        "    plt.imshow(utils.from_DHW_to_HWD(\n",
        "        color_processing.colorize_segmentation_masks(random_targets[i], segmentation_labels.labels)))\n",
        "    plt.subplot(1, 2, 2)\n",
        "    plt.title('Prediction')\n",
        "    plt.imshow(utils.from_DHW_to_HWD(\n",
        "        color_processing.colorize_segmentation_masks(random_predictions[i], segmentation_labels.labels)))"
      ]
    }
  ],
  "metadata": {
    "accelerator": "GPU",
    "colab": {
      "collapsed_sections": [],
      "provenance": []
    },
    "gpuClass": "standard",
    "kernelspec": {
      "display_name": "Python 3.10.4 ('dscas')",
      "language": "python",
      "name": "python3"
    },
    "language_info": {
      "codemirror_mode": {
        "name": "ipython",
        "version": 3
      },
      "file_extension": ".py",
      "mimetype": "text/x-python",
      "name": "python",
      "nbconvert_exporter": "python",
      "pygments_lexer": "ipython3",
      "version": "3.10.8 | packaged by conda-forge | (main, Nov 24 2022, 14:07:00) [MSC v.1916 64 bit (AMD64)]"
    },
    "orig_nbformat": 4,
    "vscode": {
      "interpreter": {
        "hash": "f8a8707fb11d5d89cf3731e99f3a893eb130d1c029541dff323dda234707d9bf"
      }
    }
  },
  "nbformat": 4,
  "nbformat_minor": 0
}
