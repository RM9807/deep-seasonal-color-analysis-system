{
 "cells": [
  {
   "cell_type": "code",
   "execution_count": 1,
   "metadata": {},
   "outputs": [],
   "source": [
    "import torch\n",
    "from torch import nn\n",
    "from sklearn.model_selection import train_test_split\n",
    "from torch.utils.data import DataLoader\n",
    "from models.dataset import get_paths, MyDataset\n",
    "from models.FastFCN.models import fcn"
   ]
  },
  {
   "cell_type": "code",
   "execution_count": 2,
   "metadata": {},
   "outputs": [],
   "source": [
    "path = \"headsegmentation_dataset_ccncsa/training.xml\"\n",
    "img_paths, label_paths = get_paths(path)\n",
    "\n",
    "BATCH_SIZE = 128\n",
    "x_train, x_test, y_train, y_test = train_test_split(img_paths, label_paths, test_size=0.2, random_state=21, shuffle=True)\n",
    "train_dataset = MyDataset(x_train, y_train)\n",
    "test_dataset = MyDataset(x_test, y_test)\n",
    "\n",
    "dl_train = DataLoader(dataset=train_dataset, batch_size=BATCH_SIZE, drop_last=True, shuffle=True)\n",
    "dl_test = DataLoader(dataset=test_dataset, batch_size=BATCH_SIZE, drop_last=False, shuffle=False)"
   ]
  },
  {
   "cell_type": "code",
   "execution_count": 3,
   "metadata": {},
   "outputs": [
    {
     "ename": "AttributeError",
     "evalue": "module 'torchvision.models' has no attribute 'ResNet50_Weights'",
     "output_type": "error",
     "traceback": [
      "\u001b[0;31m---------------------------------------------------------------------------\u001b[0m",
      "\u001b[0;31mAttributeError\u001b[0m                            Traceback (most recent call last)",
      "\u001b[1;32m/Users/francescobaraldi/Desktop/deep-seasonal-color-analysis-system/main.ipynb Cell 3\u001b[0m in \u001b[0;36m<cell line: 4>\u001b[0;34m()\u001b[0m\n\u001b[1;32m      <a href='vscode-notebook-cell:/Users/francescobaraldi/Desktop/deep-seasonal-color-analysis-system/main.ipynb#W2sZmlsZQ%3D%3D?line=0'>1</a>\u001b[0m learning_rate \u001b[39m=\u001b[39m \u001b[39m0.01\u001b[39m\n\u001b[1;32m      <a href='vscode-notebook-cell:/Users/francescobaraldi/Desktop/deep-seasonal-color-analysis-system/main.ipynb#W2sZmlsZQ%3D%3D?line=1'>2</a>\u001b[0m num_epochs \u001b[39m=\u001b[39m \u001b[39m10\u001b[39m\n\u001b[0;32m----> <a href='vscode-notebook-cell:/Users/francescobaraldi/Desktop/deep-seasonal-color-analysis-system/main.ipynb#W2sZmlsZQ%3D%3D?line=3'>4</a>\u001b[0m model \u001b[39m=\u001b[39m fcn\u001b[39m.\u001b[39;49mFCN(nclass\u001b[39m=\u001b[39;49m\u001b[39m11\u001b[39;49m, backbone\u001b[39m=\u001b[39;49m\u001b[39m\"\u001b[39;49m\u001b[39mresnet50\u001b[39;49m\u001b[39m\"\u001b[39;49m)\n\u001b[1;32m      <a href='vscode-notebook-cell:/Users/francescobaraldi/Desktop/deep-seasonal-color-analysis-system/main.ipynb#W2sZmlsZQ%3D%3D?line=4'>5</a>\u001b[0m loss_fun \u001b[39m=\u001b[39m nn\u001b[39m.\u001b[39mCrossEntropyLoss()\n\u001b[1;32m      <a href='vscode-notebook-cell:/Users/francescobaraldi/Desktop/deep-seasonal-color-analysis-system/main.ipynb#W2sZmlsZQ%3D%3D?line=5'>6</a>\u001b[0m opt \u001b[39m=\u001b[39m torch\u001b[39m.\u001b[39moptim\u001b[39m.\u001b[39mSGD(model\u001b[39m.\u001b[39mparameters(), learning_rate)\n",
      "File \u001b[0;32m~/Desktop/deep-seasonal-color-analysis-system/models/FastFCN/models/fcn.py:42\u001b[0m, in \u001b[0;36mFCN.__init__\u001b[0;34m(self, nclass, backbone, aux, se_loss, norm_layer, **kwargs)\u001b[0m\n\u001b[1;32m     41\u001b[0m \u001b[39mdef\u001b[39;00m \u001b[39m__init__\u001b[39m(\u001b[39mself\u001b[39m, nclass, backbone, aux\u001b[39m=\u001b[39m\u001b[39mFalse\u001b[39;00m, se_loss\u001b[39m=\u001b[39m\u001b[39mFalse\u001b[39;00m, norm_layer\u001b[39m=\u001b[39mnn\u001b[39m.\u001b[39mBatchNorm2d, \u001b[39m*\u001b[39m\u001b[39m*\u001b[39mkwargs):\n\u001b[0;32m---> 42\u001b[0m     \u001b[39msuper\u001b[39;49m(FCN, \u001b[39mself\u001b[39;49m)\u001b[39m.\u001b[39;49m\u001b[39m__init__\u001b[39;49m(nclass, backbone, aux, se_loss, norm_layer\u001b[39m=\u001b[39;49mnorm_layer, \u001b[39m*\u001b[39;49m\u001b[39m*\u001b[39;49mkwargs)\n\u001b[1;32m     43\u001b[0m     \u001b[39mself\u001b[39m\u001b[39m.\u001b[39mhead \u001b[39m=\u001b[39m FCNHead(\u001b[39m2048\u001b[39m, nclass, norm_layer)\n\u001b[1;32m     44\u001b[0m     \u001b[39mif\u001b[39;00m aux:\n",
      "File \u001b[0;32m~/Desktop/deep-seasonal-color-analysis-system/models/FastFCN/models/base.py:34\u001b[0m, in \u001b[0;36mBaseNet.__init__\u001b[0;34m(self, nclass, backbone, aux, se_loss, jpu, dilated, norm_layer, base_size, crop_size, mean, std, root, **kwargs)\u001b[0m\n\u001b[1;32m     32\u001b[0m \u001b[39m# copying modules from pretrained models\u001b[39;00m\n\u001b[1;32m     33\u001b[0m \u001b[39mif\u001b[39;00m backbone \u001b[39m==\u001b[39m \u001b[39m'\u001b[39m\u001b[39mresnet50\u001b[39m\u001b[39m'\u001b[39m:\n\u001b[0;32m---> 34\u001b[0m     \u001b[39mself\u001b[39m\u001b[39m.\u001b[39mpretrained \u001b[39m=\u001b[39m models\u001b[39m.\u001b[39mresnet50(weights\u001b[39m=\u001b[39mmodels\u001b[39m.\u001b[39;49mResNet50_Weights\u001b[39m.\u001b[39mIMAGENET1K_V2)\n\u001b[1;32m     35\u001b[0m \u001b[39melif\u001b[39;00m backbone \u001b[39m==\u001b[39m \u001b[39m'\u001b[39m\u001b[39mresnet101\u001b[39m\u001b[39m'\u001b[39m:\n\u001b[1;32m     36\u001b[0m     \u001b[39mself\u001b[39m\u001b[39m.\u001b[39mpretrained \u001b[39m=\u001b[39m models\u001b[39m.\u001b[39mresnet101(weights\u001b[39m=\u001b[39mmodels\u001b[39m.\u001b[39mResNet101_Weights\u001b[39m.\u001b[39mIMAGENET1K_V2)\n",
      "\u001b[0;31mAttributeError\u001b[0m: module 'torchvision.models' has no attribute 'ResNet50_Weights'"
     ]
    }
   ],
   "source": [
    "learning_rate = 0.01\n",
    "num_epochs = 10\n",
    "\n",
    "model = fcn.FCN(nclass=11, backbone=\"resnet50\")\n",
    "loss_fun = nn.CrossEntropyLoss()\n",
    "opt = torch.optim.SGD(model.parameters(), learning_rate)"
   ]
  },
  {
   "cell_type": "code",
   "execution_count": null,
   "metadata": {},
   "outputs": [],
   "source": [
    "def eval(model, data_loader):\n",
    "    correct = 0\n",
    "    total = 0\n",
    "    with torch.no_grad():\n",
    "        for img, label in data_loader:\n",
    "            pred = model(img)[0]\n",
    "            pred = torch.where(pred < 0.5, 0, 1)\n",
    "            acc = torch.sum((pred == label))\n",
    "            correct += acc\n",
    "            total += BATCH_SIZE * (200**2)\n",
    "    return correct / total"
   ]
  },
  {
   "cell_type": "code",
   "execution_count": null,
   "metadata": {},
   "outputs": [],
   "source": [
    "for e in range(num_epochs):\n",
    "    train_acc = eval(model, dl_train)\n",
    "    test_acc = eval(model, dl_test)\n",
    "    print(f\"Epoch {e} train acc.: {train_acc:.3f} - test acc.: {test_acc:.3f}\")\n",
    "    \n",
    "    for img, label in dl_train:\n",
    "        opt.zero_grad()\n",
    "        pred = model(img)[0]\n",
    "        loss = loss_fun(pred, label)\n",
    "        loss.backward()\n",
    "        opt.step()"
   ]
  }
 ],
 "metadata": {
  "kernelspec": {
   "display_name": "Python 3.8.8 ('base')",
   "language": "python",
   "name": "python3"
  },
  "language_info": {
   "codemirror_mode": {
    "name": "ipython",
    "version": 3
   },
   "file_extension": ".py",
   "mimetype": "text/x-python",
   "name": "python",
   "nbconvert_exporter": "python",
   "pygments_lexer": "ipython3",
   "version": "3.8.8"
  },
  "orig_nbformat": 4,
  "vscode": {
   "interpreter": {
    "hash": "9ac88fb7088578c98ddf37923d050ab762e45c42e2a44ad2a5e146f45afe37fd"
   }
  }
 },
 "nbformat": 4,
 "nbformat_minor": 2
}
