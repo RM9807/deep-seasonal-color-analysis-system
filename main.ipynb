{
 "cells": [
  {
   "cell_type": "code",
   "execution_count": 1,
   "metadata": {},
   "outputs": [],
   "source": [
    "import torch\n",
    "from torch import nn\n",
    "from sklearn.model_selection import train_test_split\n",
    "from torch.utils.data import DataLoader\n",
    "import torchvision.transforms as T\n",
    "from models.dataset import get_paths, MyDataset\n",
    "from models.FastFCN.models import fcn"
   ]
  },
  {
   "cell_type": "code",
   "execution_count": 2,
   "metadata": {},
   "outputs": [],
   "source": [
    "path = \"headsegmentation_dataset_ccncsa/training.xml\"\n",
    "img_paths, label_paths = get_paths(path)\n",
    "\n",
    "BATCH_SIZE = 128\n",
    "transform = T.Compose([T.PILToTensor(), T.Resize((200, 200))])\n",
    "x_train, x_test, y_train, y_test = train_test_split(img_paths, label_paths, test_size=0.2, random_state=21, shuffle=True)\n",
    "train_dataset = MyDataset(x_train, y_train, transform)\n",
    "test_dataset = MyDataset(x_test, y_test, transform)\n",
    "\n",
    "dl_train = DataLoader(dataset=train_dataset, batch_size=BATCH_SIZE, drop_last=True, shuffle=True)\n",
    "dl_test = DataLoader(dataset=test_dataset, batch_size=BATCH_SIZE, drop_last=False, shuffle=False)"
   ]
  },
  {
   "cell_type": "code",
   "execution_count": 3,
   "metadata": {},
   "outputs": [],
   "source": [
    "learning_rate = 0.01\n",
    "num_epochs = 10\n",
    "\n",
    "model = fcn.FCN(nclass=11, backbone=\"resnet50\")\n",
    "loss_fun = nn.CrossEntropyLoss()\n",
    "opt = torch.optim.SGD(model.parameters(), learning_rate)"
   ]
  },
  {
   "cell_type": "code",
   "execution_count": 4,
   "metadata": {},
   "outputs": [],
   "source": [
    "def eval(model, data_loader):\n",
    "    correct = 0\n",
    "    total = 0\n",
    "    with torch.no_grad():\n",
    "        for img, label in data_loader:\n",
    "            pred = model(img)[0]\n",
    "            pred = torch.where(pred < 0.5, 0, 1)\n",
    "            acc = torch.sum((pred == label))\n",
    "            correct += acc\n",
    "            total += BATCH_SIZE * (200**2)\n",
    "    return correct / total"
   ]
  },
  {
   "cell_type": "code",
   "execution_count": null,
   "metadata": {},
   "outputs": [],
   "source": [
    "for e in range(num_epochs):\n",
    "    train_acc = eval(model, dl_train)\n",
    "    test_acc = eval(model, dl_test)\n",
    "    print(f\"Epoch {e} train acc.: {train_acc:.3f} - test acc.: {test_acc:.3f}\")\n",
    "    \n",
    "    for img, label in dl_train:\n",
    "        opt.zero_grad()\n",
    "        pred = model(img)[0]\n",
    "        loss = loss_fun(pred, label)\n",
    "        loss.backward()\n",
    "        opt.step()"
   ]
  }
 ],
 "metadata": {
  "kernelspec": {
   "display_name": "Python 3.8.8 ('base')",
   "language": "python",
   "name": "python3"
  },
  "language_info": {
   "codemirror_mode": {
    "name": "ipython",
    "version": 3
   },
   "file_extension": ".py",
   "mimetype": "text/x-python",
   "name": "python",
   "nbconvert_exporter": "python",
   "pygments_lexer": "ipython3",
   "version": "3.8.8"
  },
  "orig_nbformat": 4,
  "vscode": {
   "interpreter": {
    "hash": "9ac88fb7088578c98ddf37923d050ab762e45c42e2a44ad2a5e146f45afe37fd"
   }
  }
 },
 "nbformat": 4,
 "nbformat_minor": 2
}
