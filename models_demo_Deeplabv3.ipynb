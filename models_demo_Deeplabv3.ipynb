{
  "cells": [
    {
      "cell_type": "code",
      "execution_count": null,
      "metadata": {
        "colab": {
          "base_uri": "https://localhost:8080/"
        },
        "id": "b6X42vt8m0Qz",
        "outputId": "f411511b-921f-4141-f239-ca5f4f54e5d3"
      },
      "outputs": [],
      "source": [
        "# === colab configuration ===\n",
        "# p.s. when training on colab, weights are saved on Drive (directory DSCAS/weights).\n",
        "# p.p.s. skip this cell if running demo file locally!\n",
        "\n",
        "! pip install torch-summary==1.4.5\n",
        "! pip install ray\n",
        "from google.colab import drive\n",
        "import sys\n",
        "\n",
        "# setting paths\n",
        "repository_path = '/content/deep-seasonal-color-analysis-system/'\n",
        "dataset_path = repository_path + 'headsegmentation_dataset_ccncsa/'\n",
        "dataset_path_drive = '/content/drive/MyDrive/DSCAS/headsegmentation_dataset_ccncsa/'\n",
        "weights_path = repository_path + 'models/weights/'\n",
        "weights_path_drive = '/content/drive/MyDrive/DSCAS/weights/'\n",
        "sys.path.insert(0, repository_path)\n",
        "\n",
        "# cloning project repository and downloading dataset\n",
        "drive.mount('/content/drive')\n",
        "! test ! -d $repository_path && git clone https://github.com/mrcmich/deep-seasonal-color-analysis-system.git\n",
        "! test ! -d $dataset_path && cp -R $dataset_path_drive $dataset_path\n",
        "%cd $repository_path\n",
        "\n",
        "# setting branch and pulling updates\n",
        "branch = 'branch_1'\n",
        "! git checkout $branch\n",
        "! git pull origin $branch\n",
        "\n",
        "executing_on_colab = True"
      ]
    },
    {
      "cell_type": "code",
      "execution_count": null,
      "metadata": {
        "id": "yhuDGwm9m0RH"
      },
      "outputs": [],
      "source": [
        "import torch\n",
        "from torch import nn\n",
        "import torchvision.transforms as T\n",
        "from sklearn.model_selection import train_test_split\n",
        "from models import dataset, training_and_testing\n",
        "from models.cloud.Deeplabv3 import deeplabv3\n",
        "from metrics_and_losses import metrics\n",
        "from utils import segmentation_labels, utils\n",
        "import matplotlib.pyplot as plt\n",
        "from palette_classification import color_processing\n",
        "import torchsummary\n",
        "from models.config import *\n",
        "\n",
        "try:\n",
        "  executing_on_colab\n",
        "except NameError:\n",
        "  executing_on_colab = False"
      ]
    },
    {
      "cell_type": "code",
      "execution_count": null,
      "metadata": {
        "id": "bDKYEBOem0RK"
      },
      "outputs": [],
      "source": [
        "# local configuration\n",
        "if executing_on_colab is False:\n",
        "  weights_path = 'models/weights/'\n",
        "  dataset_path = ROOT_DIR + 'headsegmentation_dataset_ccncsa/'"
      ]
    },
    {
      "cell_type": "code",
      "execution_count": null,
      "metadata": {
        "id": "VHGKdoQRm0RN"
      },
      "outputs": [],
      "source": [
        "# defining transforms\n",
        "tH, tW = 256, 256\n",
        "mean, std = [0.485, 0.456, 0.406], [0.229, 0.224, 0.225] # from ImageNet\n",
        "image_transform = T.Compose([T.Resize((tH, tW)), T.Normalize(mean, std)])\n",
        "target_transform = T.Compose([T.Resize((tH, tW))])\n",
        "\n",
        "# fetching dataset\n",
        "n_classes = len(segmentation_labels.labels)\n",
        "img_paths, label_paths = dataset.get_paths(dataset_path, file_name='training.xml')\n",
        "X_train, X_test, Y_train, Y_test = train_test_split(img_paths, label_paths, test_size=0.20, random_state=99, shuffle=True)\n",
        "train_dataset = dataset.MyDataset(X_train, Y_train, image_transform, target_transform)\n",
        "test_dataset = dataset.MyDataset(X_test, Y_test, image_transform, target_transform)"
      ]
    },
    {
      "cell_type": "code",
      "execution_count": null,
      "metadata": {
        "colab": {
          "base_uri": "https://localhost:8080/"
        },
        "id": "2szkGtu6m0RP",
        "outputId": "c12728bb-c71e-4136-d32c-85c997f214e6"
      },
      "outputs": [],
      "source": [
        "# training hyperparameters\n",
        "device = 'cuda' if executing_on_colab is True else 'cpu'\n",
        "batch_size = 32\n",
        "n_epochs = 50\n",
        "\n",
        "# model, loss, score function\n",
        "model_name = 'deeplabv3_ccncsa'\n",
        "model = deeplabv3.deeplabv3_resnet50(num_classes=n_classes)\n",
        "loss_fn = nn.CrossEntropyLoss()\n",
        "score_fn = metrics.batch_mIoU\n",
        "\n",
        "# optimizer\n",
        "learning_rate = 0.01\n",
        "optimizer = torch.optim.Adam(model.parameters(), lr=learning_rate)\n",
        "\n",
        "model_summary = torchsummary.summary(model, input_data=(batch_size, 3, tH, tW), batch_dim=None, verbose=0)\n",
        "print(model_summary)"
      ]
    },
    {
      "cell_type": "code",
      "execution_count": null,
      "metadata": {
        "colab": {
          "base_uri": "https://localhost:8080/"
        },
        "id": "doP5-fEgm0RS",
        "outputId": "7020e1ca-c39b-493b-a0c6-5ab62f4e8080"
      },
      "outputs": [],
      "source": [
        "# training\n",
        "results = training_and_testing.train_model(\n",
        "    device, model, train_dataset, batch_size, n_epochs, score_fn, loss_fn, optimizer, lr_scheduler=None, evaluate=True, verbose=True)"
      ]
    },
    {
      "cell_type": "code",
      "execution_count": null,
      "metadata": {
        "colab": {
          "base_uri": "https://localhost:8080/",
          "height": 404
        },
        "id": "huGlMLrAm0RV",
        "outputId": "5987d5ad-a261-4861-9d95-53ec1dd11988"
      },
      "outputs": [],
      "source": [
        "# plotting training results\n",
        "training_and_testing.plot_training_results(results, plotsize=(20, 6))"
      ]
    },
    {
      "cell_type": "code",
      "execution_count": null,
      "metadata": {
        "colab": {
          "base_uri": "https://localhost:8080/"
        },
        "id": "6cc9-m26m0RY",
        "outputId": "0de7ff4e-1afc-4d07-f76a-e38e5e7de825"
      },
      "outputs": [],
      "source": [
        "# resetting model, optimizer, learning rate scheduler\n",
        "final_model = deeplabv3.deeplabv3_resnet50(num_classes=n_classes)\n",
        "final_optimizer = torch.optim.Adam(final_model.parameters(), lr=learning_rate)\n",
        "\n",
        "# re-training model on entire training set and saving its weights\n",
        "final_n_epochs = n_epochs // 2\n",
        "training_and_testing.train_model(\n",
        "    device, final_model, train_dataset, batch_size, final_n_epochs, score_fn, loss_fn, final_optimizer, verbose=True)\n",
        "    \n",
        "# saving final model's weights\n",
        "torch.save(final_model.state_dict(), weights_path + model_name + '.pth')\n",
        "if executing_on_colab is True:\n",
        "  torch.save(final_model.state_dict(), weights_path_drive + model_name + '.pth')"
      ]
    },
    {
      "cell_type": "code",
      "execution_count": null,
      "metadata": {
        "colab": {
          "base_uri": "https://localhost:8080/"
        },
        "id": "2bINsKFmm0Rc",
        "outputId": "0488eda6-b724-4ace-a432-b0bd81da7202"
      },
      "outputs": [],
      "source": [
        "# loading pretrained final model\n",
        "try:\n",
        "    final_model\n",
        "except:\n",
        "    final_model = deeplabv3.deeplabv3_resnet50(num_classes=n_classes)\n",
        "    final_model.load_state_dict(torch.load(weights_path + model_name + '.pth'))\n",
        "\n",
        "# testing model on test dataset\n",
        "test_score_fn = metrics.batch_IoU\n",
        "label_names = list(segmentation_labels.labels.keys())\n",
        "batch_IoU = training_and_testing.test_model(device, final_model, test_dataset, batch_size, test_score_fn)\n",
        "batch_IoU_with_labels = { label: score for label, score in list(zip(label_names, batch_IoU.tolist())) }\n",
        "batch_mIoU = batch_IoU.mean().item()\n",
        "for label in batch_IoU_with_labels:\n",
        "    print(f'batch_IoU_{label}: {batch_IoU_with_labels[label]}')\n",
        "print(f'batch_mIoU={batch_mIoU}')"
      ]
    },
    {
      "cell_type": "code",
      "execution_count": null,
      "metadata": {
        "colab": {
          "base_uri": "https://localhost:8080/",
          "height": 1000
        },
        "id": "WDa1MXWPm0Rh",
        "outputId": "0f2c9622-9a24-4b08-9c23-7c167cdce6f2"
      },
      "outputs": [],
      "source": [
        "# === plotting some examples from test dataset ===\n",
        "\n",
        "n_examples = 5\n",
        "random_images = torch.zeros((n_examples, 3, tH, tW))\n",
        "random_targets = torch.zeros((n_examples, n_classes, tH, tW))\n",
        "\n",
        "for i in range(n_examples):\n",
        "    random_idx = torch.randint(high=len(test_dataset), size=(1,))\n",
        "    random_image, random_target = test_dataset[random_idx]\n",
        "    random_images[i] = random_image\n",
        "    random_targets[i] = random_target\n",
        "\n",
        "with torch.no_grad():\n",
        "    final_model.eval()\n",
        "    random_images = random_images.to(device)\n",
        "    random_output = final_model(random_images)[0]\n",
        "\n",
        "channels_max, _ = torch.max(random_output, axis=1)\n",
        "random_predictions = (random_output == channels_max.unsqueeze(axis=1)).to('cpu')\n",
        "\n",
        "for i in range(n_examples):\n",
        "    plt.figure(figsize=(12, 6))\n",
        "    plt.subplot(1, 2, 1)\n",
        "    plt.title('Ground Truth')\n",
        "    plt.imshow(utils.from_DHW_to_HWD(color_processing.colorize_segmentation_masks(random_targets[i], segmentation_labels.labels)))\n",
        "    plt.subplot(1, 2, 2)\n",
        "    plt.title('Prediction')\n",
        "    plt.imshow(utils.from_DHW_to_HWD(color_processing.colorize_segmentation_masks(random_predictions[i], segmentation_labels.labels)))"
      ]
    }
  ],
  "metadata": {
    "accelerator": "GPU",
    "colab": {
      "collapsed_sections": [],
      "provenance": []
    },
    "gpuClass": "standard",
    "kernelspec": {
      "display_name": "cv",
      "language": "python",
      "name": "python3"
    },
    "language_info": {
      "codemirror_mode": {
        "name": "ipython",
        "version": 3
      },
      "file_extension": ".py",
      "mimetype": "text/x-python",
      "name": "python",
      "nbconvert_exporter": "python",
      "pygments_lexer": "ipython3",
      "version": "3.8.13"
    },
    "orig_nbformat": 4,
    "vscode": {
      "interpreter": {
        "hash": "7035b1fba47350ac926f595c0cf89eb9aa595e837aeef931238e88411bd168d7"
      }
    }
  },
  "nbformat": 4,
  "nbformat_minor": 0
}
