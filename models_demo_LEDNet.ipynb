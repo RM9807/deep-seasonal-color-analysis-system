{
  "cells": [
    {
      "cell_type": "code",
      "execution_count": 1,
      "metadata": {
        "colab": {
          "base_uri": "https://localhost:8080/"
        },
        "id": "ERgi3bMAj_gR",
        "outputId": "c7b5b02f-0d10-476e-9a00-370f5bcd7838"
      },
      "outputs": [
        {
          "output_type": "stream",
          "name": "stdout",
          "text": [
            "Looking in indexes: https://pypi.org/simple, https://us-python.pkg.dev/colab-wheels/public/simple/\n",
            "Collecting torch-summary\n",
            "  Downloading torch_summary-1.4.5-py3-none-any.whl (16 kB)\n",
            "Installing collected packages: torch-summary\n",
            "Successfully installed torch-summary-1.4.5\n",
            "Mounted at /content/drive\n",
            "Cloning into 'deep-seasonal-color-analysis-system'...\n",
            "remote: Enumerating objects: 360, done.\u001b[K\n",
            "remote: Counting objects: 100% (48/48), done.\u001b[K\n",
            "remote: Compressing objects: 100% (32/32), done.\u001b[K\n",
            "remote: Total 360 (delta 23), reused 29 (delta 16), pack-reused 312\u001b[K\n",
            "Receiving objects: 100% (360/360), 14.49 MiB | 30.85 MiB/s, done.\n",
            "Resolving deltas: 100% (169/169), done.\n",
            "/content/deep-seasonal-color-analysis-system\n",
            "Branch 'branch_1' set up to track remote branch 'branch_1' from 'origin'.\n",
            "Switched to a new branch 'branch_1'\n",
            "From https://github.com/mrcmich/deep-seasonal-color-analysis-system\n",
            " * branch            branch_1   -> FETCH_HEAD\n",
            "Already up to date.\n"
          ]
        }
      ],
      "source": [
        "# === colab configuration ===\n",
        "# p.s. when training on colab, weights are saved on Drive (directory DSCAS/weights).\n",
        "# p.p.s. skip this cell if running demo file locally!\n",
        "\n",
        "! pip install torch-summary\n",
        "from google.colab import drive\n",
        "import sys\n",
        "\n",
        "# setting paths\n",
        "repository_path = '/content/deep-seasonal-color-analysis-system/'\n",
        "dataset_path = repository_path + 'headsegmentation_dataset_ccncsa/'\n",
        "dataset_path_drive = '/content/drive/MyDrive/DSCAS/headsegmentation_dataset_ccncsa/'\n",
        "weights_path = repository_path + 'models/weights/'\n",
        "weights_path_drive = '/content/drive/MyDrive/DSCAS/weights/'\n",
        "sys.path.insert(0, repository_path)\n",
        "\n",
        "# cloning project repository and downloading dataset\n",
        "drive.mount('/content/drive')\n",
        "! test ! -d $repository_path && git clone https://github.com/mrcmich/deep-seasonal-color-analysis-system.git\n",
        "! test ! -d $dataset_path && cp -R $dataset_path_drive $dataset_path\n",
        "%cd $repository_path\n",
        "\n",
        "# setting branch and pulling updates\n",
        "! git checkout branch_1\n",
        "! git pull origin branch_1\n",
        "\n",
        "executing_on_colab = True"
      ]
    },
    {
      "cell_type": "code",
      "execution_count": 2,
      "metadata": {
        "id": "u_3SwlFLj_gT"
      },
      "outputs": [],
      "source": [
        "import torch\n",
        "from torch import nn\n",
        "import torchvision.transforms as T\n",
        "from sklearn.model_selection import train_test_split\n",
        "from models import dataset, training_and_testing\n",
        "from models.LEDNet.models import lednet\n",
        "from metrics_and_losses import metrics\n",
        "from utils import segmentation_labels, utils\n",
        "import matplotlib.pyplot as plt\n",
        "from palette_classification import color_processing\n",
        "import torchsummary\n",
        "from models.config import *\n",
        "\n",
        "try:\n",
        "  executing_on_colab\n",
        "except NameError:\n",
        "  executing_on_colab = False"
      ]
    },
    {
      "cell_type": "code",
      "execution_count": 3,
      "metadata": {
        "id": "gdPU7KBJj_gT"
      },
      "outputs": [],
      "source": [
        "# local configuration\n",
        "if executing_on_colab is False:\n",
        "  weights_path = 'models/weights/'\n",
        "  dataset_path = ROOT_DIR + 'headsegmentation_dataset_ccncsa/'"
      ]
    },
    {
      "cell_type": "code",
      "execution_count": 4,
      "metadata": {
        "id": "J54SYbuYj_gU"
      },
      "outputs": [],
      "source": [
        "# defining transforms\n",
        "tH, tW = 256, 256\n",
        "mean, std = [0.485, 0.456, 0.406], [0.229, 0.224, 0.225] # from ImageNet\n",
        "image_transform = T.Compose([T.Resize((tH, tW)), T.Normalize(mean, std)])\n",
        "target_transform = T.Compose([T.Resize((tH, tW))])\n",
        "\n",
        "# fetching dataset\n",
        "n_classes = len(segmentation_labels.labels)\n",
        "img_paths, label_paths = dataset.get_paths(dataset_path, file_name='training.xml')\n",
        "X_train, X_test, Y_train, Y_test = train_test_split(img_paths, label_paths, test_size=0.20, random_state=99, shuffle=True)\n",
        "train_dataset = dataset.MyDataset(X_train, Y_train, image_transform, target_transform)\n",
        "test_dataset = dataset.MyDataset(X_test, Y_test, image_transform, target_transform)"
      ]
    },
    {
      "cell_type": "code",
      "execution_count": 5,
      "metadata": {
        "colab": {
          "base_uri": "https://localhost:8080/"
        },
        "id": "DULvGF9Nj_gU",
        "outputId": "e3931285-586a-408b-db61-699a7b6d6257"
      },
      "outputs": [
        {
          "output_type": "stream",
          "name": "stdout",
          "text": [
            "===============================================================================================\n",
            "Layer (type:depth-idx)                        Output Shape              Param #\n",
            "===============================================================================================\n",
            "├─Encoder: 1-1                                [32, 128, 32, 32]         --\n",
            "|    └─DownsamplerBlock: 2-1                  [32, 32, 128, 128]        --\n",
            "|    |    └─MaxPool2d: 3-1                    [32, 3, 128, 128]         --\n",
            "|    |    └─Conv2d: 3-2                       [32, 29, 128, 128]        812\n",
            "|    |    └─BatchNorm2d: 3-3                  [32, 32, 128, 128]        64\n",
            "|    |    └─ReLU: 3-4                         [32, 32, 128, 128]        --\n",
            "|    └─ModuleList: 2                          []                        --\n",
            "|    |    └─SS_nbt_module: 3-5                [32, 32, 128, 128]        6,400\n",
            "|    |    └─SS_nbt_module: 3-6                [32, 32, 128, 128]        6,400\n",
            "|    |    └─SS_nbt_module: 3-7                [32, 32, 128, 128]        6,400\n",
            "|    |    └─DownsamplerBlock: 3-8             [32, 64, 64, 64]          9,376\n",
            "|    |    └─SS_nbt_module: 3-9                [32, 64, 64, 64]          25,088\n",
            "|    |    └─SS_nbt_module: 3-10               [32, 64, 64, 64]          25,088\n",
            "|    |    └─DownsamplerBlock: 3-11            [32, 128, 32, 32]         37,184\n",
            "|    |    └─SS_nbt_module: 3-12               [32, 128, 32, 32]         99,328\n",
            "|    |    └─SS_nbt_module: 3-13               [32, 128, 32, 32]         99,328\n",
            "|    |    └─SS_nbt_module: 3-14               [32, 128, 32, 32]         99,328\n",
            "|    |    └─SS_nbt_module: 3-15               [32, 128, 32, 32]         99,328\n",
            "|    |    └─SS_nbt_module: 3-16               [32, 128, 32, 32]         99,328\n",
            "|    |    └─SS_nbt_module: 3-17               [32, 128, 32, 32]         99,328\n",
            "|    |    └─SS_nbt_module: 3-18               [32, 128, 32, 32]         99,328\n",
            "|    |    └─SS_nbt_module: 3-19               [32, 128, 32, 32]         99,328\n",
            "├─Decoder: 1                                  []                        --\n",
            "|    └─APN_Module: 2-2                        [32, 11, 32, 32]          --\n",
            "|    |    └─Sequential: 3-20                  [32, 11, 1, 1]            1,441\n",
            "|    |    └─Sequential: 3-21                  [32, 11, 32, 32]          1,441\n",
            "|    |    └─Conv2dBnRelu: 3-22                [32, 1, 16, 16]           6,275\n",
            "|    |    └─Conv2dBnRelu: 3-23                [32, 1, 8, 8]             28\n",
            "|    |    └─Sequential: 3-24                  [32, 1, 4, 4]             24\n",
            "|    |    └─Conv2dBnRelu: 3-25                [32, 1, 8, 8]             28\n",
            "|    |    └─Conv2dBnRelu: 3-26                [32, 1, 16, 16]           52\n",
            "===============================================================================================\n",
            "Total params: 920,725\n",
            "Trainable params: 920,725\n",
            "Non-trainable params: 0\n",
            "Total mult-adds (G): 1.40\n",
            "===============================================================================================\n",
            "Input size (MB): 24.00\n",
            "Forward/backward pass size (MB): 4996.00\n",
            "Params size (MB): 3.51\n",
            "Estimated Total Size (MB): 5023.51\n",
            "===============================================================================================\n"
          ]
        },
        {
          "output_type": "execute_result",
          "data": {
            "text/plain": [
              "===============================================================================================\n",
              "Layer (type:depth-idx)                        Output Shape              Param #\n",
              "===============================================================================================\n",
              "├─Encoder: 1-1                                [32, 128, 32, 32]         --\n",
              "|    └─DownsamplerBlock: 2-1                  [32, 32, 128, 128]        --\n",
              "|    |    └─MaxPool2d: 3-1                    [32, 3, 128, 128]         --\n",
              "|    |    └─Conv2d: 3-2                       [32, 29, 128, 128]        812\n",
              "|    |    └─BatchNorm2d: 3-3                  [32, 32, 128, 128]        64\n",
              "|    |    └─ReLU: 3-4                         [32, 32, 128, 128]        --\n",
              "|    └─ModuleList: 2                          []                        --\n",
              "|    |    └─SS_nbt_module: 3-5                [32, 32, 128, 128]        6,400\n",
              "|    |    └─SS_nbt_module: 3-6                [32, 32, 128, 128]        6,400\n",
              "|    |    └─SS_nbt_module: 3-7                [32, 32, 128, 128]        6,400\n",
              "|    |    └─DownsamplerBlock: 3-8             [32, 64, 64, 64]          9,376\n",
              "|    |    └─SS_nbt_module: 3-9                [32, 64, 64, 64]          25,088\n",
              "|    |    └─SS_nbt_module: 3-10               [32, 64, 64, 64]          25,088\n",
              "|    |    └─DownsamplerBlock: 3-11            [32, 128, 32, 32]         37,184\n",
              "|    |    └─SS_nbt_module: 3-12               [32, 128, 32, 32]         99,328\n",
              "|    |    └─SS_nbt_module: 3-13               [32, 128, 32, 32]         99,328\n",
              "|    |    └─SS_nbt_module: 3-14               [32, 128, 32, 32]         99,328\n",
              "|    |    └─SS_nbt_module: 3-15               [32, 128, 32, 32]         99,328\n",
              "|    |    └─SS_nbt_module: 3-16               [32, 128, 32, 32]         99,328\n",
              "|    |    └─SS_nbt_module: 3-17               [32, 128, 32, 32]         99,328\n",
              "|    |    └─SS_nbt_module: 3-18               [32, 128, 32, 32]         99,328\n",
              "|    |    └─SS_nbt_module: 3-19               [32, 128, 32, 32]         99,328\n",
              "├─Decoder: 1                                  []                        --\n",
              "|    └─APN_Module: 2-2                        [32, 11, 32, 32]          --\n",
              "|    |    └─Sequential: 3-20                  [32, 11, 1, 1]            1,441\n",
              "|    |    └─Sequential: 3-21                  [32, 11, 32, 32]          1,441\n",
              "|    |    └─Conv2dBnRelu: 3-22                [32, 1, 16, 16]           6,275\n",
              "|    |    └─Conv2dBnRelu: 3-23                [32, 1, 8, 8]             28\n",
              "|    |    └─Sequential: 3-24                  [32, 1, 4, 4]             24\n",
              "|    |    └─Conv2dBnRelu: 3-25                [32, 1, 8, 8]             28\n",
              "|    |    └─Conv2dBnRelu: 3-26                [32, 1, 16, 16]           52\n",
              "===============================================================================================\n",
              "Total params: 920,725\n",
              "Trainable params: 920,725\n",
              "Non-trainable params: 0\n",
              "Total mult-adds (G): 1.40\n",
              "===============================================================================================\n",
              "Input size (MB): 24.00\n",
              "Forward/backward pass size (MB): 4996.00\n",
              "Params size (MB): 3.51\n",
              "Estimated Total Size (MB): 5023.51\n",
              "==============================================================================================="
            ]
          },
          "metadata": {},
          "execution_count": 5
        }
      ],
      "source": [
        "# training hyperparameters\n",
        "device = 'cuda' if executing_on_colab is True else 'cpu'\n",
        "batch_size = 32\n",
        "n_epochs = 50\n",
        "\n",
        "# model, loss, score function\n",
        "model_name = 'lednet_ccncsa'\n",
        "model = lednet.LEDNet(num_classes=n_classes, output_size=(tH, tW))\n",
        "loss_fn = nn.CrossEntropyLoss()\n",
        "score_fn = metrics.batch_mIoU\n",
        "\n",
        "# optimizer\n",
        "learning_rate = 0.01\n",
        "optimizer = torch.optim.Adam(model.parameters(), lr=learning_rate)\n",
        "\n",
        "# printing model summary\n",
        "torchsummary.summary(model, input_data=(batch_size, 3, tH, tW), batch_dim=None)"
      ]
    },
    {
      "cell_type": "code",
      "execution_count": 6,
      "metadata": {
        "colab": {
          "base_uri": "https://localhost:8080/"
        },
        "id": "mEbz104ij_gU",
        "outputId": "7a693b3e-3c2e-4937-afc7-360179abf2f1"
      },
      "outputs": [
        {
          "output_type": "stream",
          "name": "stdout",
          "text": [
            "Device: cuda.\n",
            "--- Epoch 1/50 ---\n",
            "average_train_loss: 1.2836451996331928, average_train_score: 0.31326228380203247\n",
            "average_val_loss: 0.947281401604414, average_val_score: 0.3502192497253418\n",
            "--- Epoch 2/50 ---\n",
            "average_train_loss: 0.6969142720617097, average_train_score: 0.3684462904930115\n",
            "average_val_loss: 0.7702319398522377, average_val_score: 0.3593418300151825\n",
            "--- Epoch 3/50 ---\n",
            "average_train_loss: 0.5964363549632588, average_train_score: 0.3809080421924591\n",
            "average_val_loss: 0.5528413355350494, average_val_score: 0.3824145495891571\n",
            "--- Epoch 4/50 ---\n",
            "average_train_loss: 0.5558023733654242, average_train_score: 0.38412532210350037\n",
            "average_val_loss: 0.4942077063024044, average_val_score: 0.3927190601825714\n",
            "--- Epoch 5/50 ---\n",
            "average_train_loss: 0.5117142724579778, average_train_score: 0.3907585144042969\n",
            "average_val_loss: 0.48132710345089436, average_val_score: 0.39664381742477417\n",
            "--- Epoch 6/50 ---\n",
            "average_train_loss: 0.45208914663599825, average_train_score: 0.4012129008769989\n",
            "average_val_loss: 0.40414419025182724, average_val_score: 0.4261859953403473\n",
            "--- Epoch 7/50 ---\n",
            "average_train_loss: 0.4286190699571851, average_train_score: 0.4075720012187958\n",
            "average_val_loss: 0.38244234398007393, average_val_score: 0.4364117681980133\n",
            "--- Epoch 8/50 ---\n",
            "average_train_loss: 0.41140929583845465, average_train_score: 0.4187716841697693\n",
            "average_val_loss: 0.3584771566092968, average_val_score: 0.44458234310150146\n",
            "--- Epoch 9/50 ---\n",
            "average_train_loss: 0.3699765893919715, average_train_score: 0.43380188941955566\n",
            "average_val_loss: 0.3472710717469454, average_val_score: 0.45267966389656067\n",
            "--- Epoch 10/50 ---\n",
            "average_train_loss: 0.3475225793904272, average_train_score: 0.44654425978660583\n",
            "average_val_loss: 0.35130458511412144, average_val_score: 0.46272751688957214\n",
            "--- Epoch 11/50 ---\n",
            "average_train_loss: 0.3313646808095362, average_train_score: 0.45652148127555847\n",
            "average_val_loss: 0.3132234327495098, average_val_score: 0.47191205620765686\n",
            "--- Epoch 12/50 ---\n",
            "average_train_loss: 0.31678311800819703, average_train_score: 0.46593040227890015\n",
            "average_val_loss: 0.28155884332954884, average_val_score: 0.5044404864311218\n",
            "--- Epoch 13/50 ---\n",
            "average_train_loss: 0.2848728896900155, average_train_score: 0.4851232171058655\n",
            "average_val_loss: 0.2747517265379429, average_val_score: 0.5159311890602112\n",
            "--- Epoch 14/50 ---\n",
            "average_train_loss: 0.26959960368172875, average_train_score: 0.4981818199157715\n",
            "average_val_loss: 0.26368284318596125, average_val_score: 0.49718722701072693\n",
            "--- Epoch 15/50 ---\n",
            "average_train_loss: 0.2523856348004834, average_train_score: 0.5136092305183411\n",
            "average_val_loss: 0.23754398711025715, average_val_score: 0.5261542201042175\n",
            "--- Epoch 16/50 ---\n",
            "average_train_loss: 0.2434745254530304, average_train_score: 0.5187896490097046\n",
            "average_val_loss: 0.23986662551760674, average_val_score: 0.5251929759979248\n",
            "--- Epoch 17/50 ---\n",
            "average_train_loss: 0.22982761520763922, average_train_score: 0.5296638011932373\n",
            "average_val_loss: 0.21635034494102, average_val_score: 0.5444236993789673\n",
            "--- Epoch 18/50 ---\n",
            "average_train_loss: 0.21535992690886574, average_train_score: 0.5384763479232788\n",
            "average_val_loss: 0.21816685143858194, average_val_score: 0.5444421172142029\n",
            "--- Epoch 19/50 ---\n",
            "average_train_loss: 0.20677178087590756, average_train_score: 0.545922040939331\n",
            "average_val_loss: 0.20450160652399063, average_val_score: 0.5694618225097656\n",
            "--- Epoch 20/50 ---\n",
            "average_train_loss: 0.20372652904740696, average_train_score: 0.5520849823951721\n",
            "average_val_loss: 0.22198954783380032, average_val_score: 0.5528584718704224\n",
            "--- Epoch 21/50 ---\n",
            "average_train_loss: 0.1996145592681293, average_train_score: 0.5545363426208496\n",
            "average_val_loss: 0.20307257119566202, average_val_score: 0.5523098707199097\n",
            "--- Epoch 22/50 ---\n",
            "average_train_loss: 0.18358320340342904, average_train_score: 0.5682774186134338\n",
            "average_val_loss: 0.19047006964683533, average_val_score: 0.5848045349121094\n",
            "--- Epoch 23/50 ---\n",
            "average_train_loss: 0.17777238880423293, average_train_score: 0.5730945467948914\n",
            "average_val_loss: 0.1884639309719205, average_val_score: 0.5855103135108948\n",
            "--- Epoch 24/50 ---\n",
            "average_train_loss: 0.1735249404934631, average_train_score: 0.5756370425224304\n",
            "average_val_loss: 0.18837797082960606, average_val_score: 0.5871158242225647\n",
            "--- Epoch 25/50 ---\n",
            "average_train_loss: 0.17618863618579403, average_train_score: 0.573776125907898\n",
            "average_val_loss: 0.1681432295590639, average_val_score: 0.5967581272125244\n",
            "--- Epoch 26/50 ---\n",
            "average_train_loss: 0.16208738311268817, average_train_score: 0.5874559879302979\n",
            "average_val_loss: 0.16902043484151363, average_val_score: 0.6095781326293945\n",
            "--- Epoch 27/50 ---\n",
            "average_train_loss: 0.15573928573693352, average_train_score: 0.5913564562797546\n",
            "average_val_loss: 0.20117794629186392, average_val_score: 0.5606526732444763\n",
            "--- Epoch 28/50 ---\n",
            "average_train_loss: 0.15713492130068527, average_train_score: 0.5927844047546387\n",
            "average_val_loss: 0.17064964398741722, average_val_score: 0.5981122851371765\n",
            "--- Epoch 29/50 ---\n",
            "average_train_loss: 0.15489772056368575, average_train_score: 0.5945268273353577\n",
            "average_val_loss: 0.16892047505825758, average_val_score: 0.6058958172798157\n",
            "--- Epoch 30/50 ---\n",
            "average_train_loss: 0.14885085615618476, average_train_score: 0.5997839570045471\n",
            "average_val_loss: 0.22263731714338064, average_val_score: 0.5682659149169922\n",
            "--- Epoch 31/50 ---\n",
            "average_train_loss: 0.1538651535908381, average_train_score: 0.595119297504425\n",
            "average_val_loss: 0.16352688893675804, average_val_score: 0.6094272136688232\n",
            "--- Epoch 32/50 ---\n",
            "average_train_loss: 0.14237045839257623, average_train_score: 0.6047428846359253\n",
            "average_val_loss: 0.1662088856101036, average_val_score: 0.6080369353294373\n",
            "--- Epoch 33/50 ---\n",
            "average_train_loss: 0.13638741934093937, average_train_score: 0.609535276889801\n",
            "average_val_loss: 0.17667943891137838, average_val_score: 0.5968732833862305\n",
            "--- Epoch 34/50 ---\n",
            "average_train_loss: 0.14448319709506527, average_train_score: 0.6011608839035034\n",
            "average_val_loss: 0.15536476206034422, average_val_score: 0.6141942739486694\n",
            "--- Epoch 35/50 ---\n",
            "average_train_loss: 0.1392361853999653, average_train_score: 0.6058070063591003\n",
            "average_val_loss: 0.15226449677720666, average_val_score: 0.6083486676216125\n",
            "--- Epoch 36/50 ---\n",
            "average_train_loss: 0.1278611588580855, average_train_score: 0.6195086240768433\n",
            "average_val_loss: 0.15120870247483253, average_val_score: 0.6231548190116882\n",
            "--- Epoch 37/50 ---\n",
            "average_train_loss: 0.12367129146025099, average_train_score: 0.6204266548156738\n",
            "average_val_loss: 0.1454133684746921, average_val_score: 0.6217583417892456\n",
            "--- Epoch 38/50 ---\n",
            "average_train_loss: 0.12274302182526424, average_train_score: 0.6217159628868103\n",
            "average_val_loss: 0.14287165738642216, average_val_score: 0.6308059096336365\n",
            "--- Epoch 39/50 ---\n",
            "average_train_loss: 0.11962496429339223, average_train_score: 0.6254698634147644\n",
            "average_val_loss: 0.15767478803172708, average_val_score: 0.6228904724121094\n",
            "--- Epoch 40/50 ---\n",
            "average_train_loss: 0.11966440415587919, average_train_score: 0.6242446899414062\n",
            "average_val_loss: 0.15899388771504164, average_val_score: 0.6108835935592651\n",
            "--- Epoch 41/50 ---\n",
            "average_train_loss: 0.11798939228742972, average_train_score: 0.6289725303649902\n",
            "average_val_loss: 0.15450072847306728, average_val_score: 0.6347978115081787\n",
            "--- Epoch 42/50 ---\n",
            "average_train_loss: 0.1137959648822916, average_train_score: 0.6311827301979065\n",
            "average_val_loss: 0.15536502422764897, average_val_score: 0.6173642873764038\n",
            "--- Epoch 43/50 ---\n",
            "average_train_loss: 0.11643373478075554, average_train_score: 0.6290596127510071\n",
            "average_val_loss: 0.13655277574434876, average_val_score: 0.6378399729728699\n",
            "--- Epoch 44/50 ---\n",
            "average_train_loss: 0.11327661796547901, average_train_score: 0.635749340057373\n",
            "average_val_loss: 0.14407634362578392, average_val_score: 0.6282875537872314\n",
            "--- Epoch 45/50 ---\n",
            "average_train_loss: 0.11054024143123078, average_train_score: 0.6353061199188232\n",
            "average_val_loss: 0.18797018751502037, average_val_score: 0.6219907999038696\n",
            "--- Epoch 46/50 ---\n",
            "average_train_loss: 0.1114758965612828, average_train_score: 0.6333111524581909\n",
            "average_val_loss: 0.14060876797884703, average_val_score: 0.6408317685127258\n",
            "--- Epoch 47/50 ---\n",
            "average_train_loss: 0.10869677698817747, average_train_score: 0.6380870342254639\n",
            "average_val_loss: 0.13623453257605433, average_val_score: 0.6382229328155518\n",
            "--- Epoch 48/50 ---\n",
            "average_train_loss: 0.10275120587869623, average_train_score: 0.6426075100898743\n",
            "average_val_loss: 0.1429546382278204, average_val_score: 0.6437243819236755\n",
            "--- Epoch 49/50 ---\n",
            "average_train_loss: 0.10351153463125229, average_train_score: 0.6410588026046753\n",
            "average_val_loss: 0.14759586285799742, average_val_score: 0.6261955499649048\n",
            "--- Epoch 50/50 ---\n",
            "average_train_loss: 0.12199553282096467, average_train_score: 0.6293725371360779\n",
            "average_val_loss: 0.1608358696103096, average_val_score: 0.6136038303375244\n",
            "\n",
            "Training completed in around 72 minutes.\n"
          ]
        }
      ],
      "source": [
        "# training\n",
        "results = training_and_testing.train_model(\n",
        "    device, model, test_dataset, batch_size, n_epochs, score_fn, loss_fn, optimizer, lr_scheduler=None, evaluate=True, verbose=True)"
      ]
    },
    {
      "cell_type": "code",
      "execution_count": 7,
      "metadata": {
        "colab": {
          "base_uri": "https://localhost:8080/",
          "height": 404
        },
        "id": "FyPKGCyXj_gV",
        "outputId": "b78d42c5-4ec0-4830-eb87-1cf44b781dc0"
      },
      "outputs": [
        {
          "output_type": "display_data",
          "data": {
            "text/plain": [
              "<Figure size 1440x432 with 2 Axes>"
            ],
            "image/png": "[encoded data removed]"
          },
          "metadata": {
            "needs_background": "light"
          }
        }
      ],
      "source": [
        "# plotting training results\n",
        "training_and_testing.plot_training_results(results, plotsize=(20, 6))"
      ]
    },
    {
      "cell_type": "code",
      "execution_count": null,
      "metadata": {
        "id": "t_8tYLRBj_gV"
      },
      "outputs": [],
      "source": [
        "# resetting model, optimizer, learning rate scheduler\n",
        "final_model = lednet.LEDNet(num_classes=n_classes)\n",
        "final_optimizer = torch.optim.Adam(final_model.parameters(), lr=learning_rate)\n",
        "\n",
        "# re-training model on entire training set and saving its weights\n",
        "final_n_epochs = n_epochs // 2\n",
        "training_and_testing.train_model(\n",
        "    device, final_model, train_dataset, batch_size, final_n_epochs, score_fn, loss_fn, final_optimizer, verbose=True)\n",
        "\n",
        "# saving final model's weights\n",
        "torch.save(final_model.state_dict(), weights_path + model_name + '.pth')\n",
        "if executing_on_colab is True:\n",
        "  torch.save(final_model.state_dict(), weights_path_drive + model_name + '.pth')"
      ]
    },
    {
      "cell_type": "code",
      "execution_count": null,
      "metadata": {
        "id": "Jr5yGJnOj_gV"
      },
      "outputs": [],
      "source": [
        "# loading pretrained final model\n",
        "try:\n",
        "    final_model\n",
        "except:\n",
        "    final_model = lednet.LEDNet(num_classes=n_classes)\n",
        "    final_model.load_state_dict(torch.load(weights_path + model_name + '.pth'))\n",
        "\n",
        "# testing model on test dataset\n",
        "test_score_fn = metrics.batch_IoU\n",
        "label_names = list(segmentation_labels.labels.keys())\n",
        "batch_IoU = training_and_testing.test_model(device, final_model, test_dataset, batch_size, test_score_fn)\n",
        "batch_IoU_with_labels = { label: score for label, score in list(zip(label_names, batch_IoU.tolist())) }\n",
        "batch_mIoU = batch_IoU.mean().item()\n",
        "for label in batch_IoU_with_labels:\n",
        "    print(f'batch_IoU_{label}: {batch_IoU_with_labels[label]}')\n",
        "print(f'batch_mIoU={batch_mIoU}')"
      ]
    },
    {
      "cell_type": "code",
      "execution_count": null,
      "metadata": {
        "id": "M8sb1A3-j_gW"
      },
      "outputs": [],
      "source": [
        "# === plotting some examples from test dataset ===\n",
        "\n",
        "n_examples = 5\n",
        "random_images = torch.zeros((n_examples, 3, tH, tW))\n",
        "random_targets = torch.zeros((n_examples, n_classes, tH, tW))\n",
        "\n",
        "for i in range(n_examples):\n",
        "    random_idx = torch.randint(high=len(test_dataset), size=(1,))\n",
        "    random_image, random_target = test_dataset[random_idx]\n",
        "    random_images[i] = random_image\n",
        "    random_targets[i] = random_target\n",
        "\n",
        "with torch.no_grad():\n",
        "    final_model.eval()\n",
        "    random_images = random_images.to(device)\n",
        "    random_output = final_model(random_images)[0]\n",
        "\n",
        "channels_max, _ = torch.max(random_output, axis=1)\n",
        "random_predictions = (random_output == channels_max.unsqueeze(axis=1)).to('cpu')\n",
        "\n",
        "for i in range(n_examples):\n",
        "    plt.figure(figsize=(12, 6))\n",
        "    plt.subplot(1, 2, 1)\n",
        "    plt.title('Ground Truth')\n",
        "    plt.imshow(utils.from_DHW_to_HWD(color_processing.colorize_segmentation_masks(random_targets[i], segmentation_labels.labels)))\n",
        "    plt.subplot(1, 2, 2)\n",
        "    plt.title('Prediction')\n",
        "    plt.imshow(utils.from_DHW_to_HWD(color_processing.colorize_segmentation_masks(random_predictions[i], segmentation_labels.labels)))"
      ]
    }
  ],
  "metadata": {
    "kernelspec": {
      "display_name": "Python 3.10.4 ('dscas')",
      "language": "python",
      "name": "python3"
    },
    "language_info": {
      "codemirror_mode": {
        "name": "ipython",
        "version": 3
      },
      "file_extension": ".py",
      "mimetype": "text/x-python",
      "name": "python",
      "nbconvert_exporter": "python",
      "pygments_lexer": "ipython3",
      "version": "3.10.4"
    },
    "orig_nbformat": 4,
    "vscode": {
      "interpreter": {
        "hash": "f8a8707fb11d5d89cf3731e99f3a893eb130d1c029541dff323dda234707d9bf"
      }
    },
    "colab": {
      "provenance": [],
      "collapsed_sections": []
    },
    "accelerator": "GPU",
    "gpuClass": "standard"
  },
  "nbformat": 4,
  "nbformat_minor": 0
}