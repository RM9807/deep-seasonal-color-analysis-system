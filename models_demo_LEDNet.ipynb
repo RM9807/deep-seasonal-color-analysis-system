{
 "cells": [
  {
   "cell_type": "code",
   "execution_count": 1,
   "metadata": {},
   "outputs": [],
   "source": [
    "import torch\n",
    "from torch import nn\n",
    "import torchvision.transforms as T\n",
    "from sklearn.model_selection import train_test_split\n",
    "from models import dataset, training_and_testing\n",
    "from models.LEDNet.models import lednet\n",
    "from metrics_and_losses import metrics\n",
    "from utils import segmentation_labels, utils\n",
    "import matplotlib.pyplot as plt\n",
    "from palette_classification import color_processing\n",
    "import torchsummary"
   ]
  },
  {
   "cell_type": "code",
   "execution_count": 2,
   "metadata": {},
   "outputs": [],
   "source": [
    "# configuration\n",
    "n_examples = 5\n",
    "model_name = 'lednet_ccncsa'\n",
    "weights_path = \"models/weights/\"\n",
    "dataset_path = \"headsegmentation_dataset_ccncsa/\""
   ]
  },
  {
   "cell_type": "code",
   "execution_count": 3,
   "metadata": {},
   "outputs": [],
   "source": [
    "# defining transforms\n",
    "tH, tW = 256, 256\n",
    "mean, std = [0.485, 0.456, 0.406], [0.229, 0.224, 0.225] # from ImageNet\n",
    "image_transform = T.Compose([T.Resize((tH, tW)), T.Normalize(mean, std)])\n",
    "target_transform = T.Compose([T.Resize((tH, tW))])\n",
    "\n",
    "# fetching dataset\n",
    "n_classes = len(segmentation_labels.labels)\n",
    "img_paths, label_paths = dataset.get_paths(dataset_path + 'training.xml')\n",
    "X_train, X_test, Y_train, Y_test = train_test_split(img_paths, label_paths, test_size=0.20, random_state=99, shuffle=True)\n",
    "train_dataset = dataset.MyDataset(X_train, Y_train, image_transform, target_transform)\n",
    "test_dataset = dataset.MyDataset(X_test, Y_test, image_transform, target_transform)"
   ]
  },
  {
   "cell_type": "code",
   "execution_count": null,
   "metadata": {},
   "outputs": [],
   "source": [
    "# training hyperparameters\n",
    "device = 'cpu'\n",
    "batch_size = 64\n",
    "n_epochs = 50\n",
    "\n",
    "# model, loss, score function\n",
    "model = lednet.LEDNet(num_classes=n_classes)\n",
    "loss_fn = nn.CrossEntropyLoss()\n",
    "score_fn = metrics.batch_mIoU\n",
    "\n",
    "# optimizer\n",
    "learning_rate = 0.01\n",
    "optimizer = torch.optim.Adam(model.parameters(), lr=learning_rate)\n",
    "\n",
    "# printing model summary\n",
    "torchsummary.summary(model, (3, tH, tW))\n",
    "\n",
    "# printing number of params\n",
    "total_params_v1 = sum(p.numel() for p in model.parameters())\n",
    "print(f\"LEDNet - #params: {total_params_v1}\")"
   ]
  },
  {
   "cell_type": "code",
   "execution_count": null,
   "metadata": {},
   "outputs": [],
   "source": [
    "# training\n",
    "results = training_and_testing.train_model(\n",
    "    device, model, test_dataset, batch_size, n_epochs, score_fn, loss_fn, optimizer, lr_scheduler=None, evaluate=True, verbose=True)"
   ]
  },
  {
   "cell_type": "code",
   "execution_count": null,
   "metadata": {},
   "outputs": [],
   "source": [
    "# plotting training results\n",
    "training_and_testing.plot_training_results(results, plotsize=(20, 6))"
   ]
  },
  {
   "cell_type": "code",
   "execution_count": null,
   "metadata": {},
   "outputs": [],
   "source": [
    "# resetting model, optimizer, learning rate scheduler\n",
    "final_model = lednet.LEDNet(num_classes=n_classes)\n",
    "final_optimizer = torch.optim.Adam(final_model.parameters(), lr=learning_rate)\n",
    "\n",
    "# re-training model on entire training set and saving its weights\n",
    "final_n_epochs = 25\n",
    "training_and_testing.train_model(\n",
    "    device, final_model, train_dataset, batch_size, final_n_epochs, score_fn, loss_fn, final_optimizer, verbose=True)\n",
    "torch.save(final_model.state_dict(), weights_path + model_name + '.pth')"
   ]
  },
  {
   "cell_type": "code",
   "execution_count": null,
   "metadata": {},
   "outputs": [],
   "source": [
    "# loading pretrained final model\n",
    "try:\n",
    "    final_model\n",
    "except:\n",
    "    final_model = lednet.LEDNet(num_classes=n_classes)\n",
    "    final_model.load_state_dict(torch.load(weights_path + model_name + '.pth'))\n",
    "\n",
    "# testing model on test dataset\n",
    "test_score_fn = metrics.batch_IoU\n",
    "label_names = list(segmentation_labels.labels.keys())\n",
    "batch_IoU = training_and_testing.test_model(device, final_model, test_dataset, batch_size, test_score_fn)\n",
    "batch_IoU_with_labels = { label: score for label, score in list(zip(label_names, batch_IoU.tolist())) }\n",
    "batch_mIoU = batch_IoU.mean().item()\n",
    "for label in batch_IoU_with_labels:\n",
    "    print(f'batch_IoU_{label}: {batch_IoU_with_labels[label]}')\n",
    "print(f'batch_mIoU={batch_mIoU}')"
   ]
  },
  {
   "cell_type": "code",
   "execution_count": null,
   "metadata": {},
   "outputs": [],
   "source": [
    "# plotting some random examples from test dataset\n",
    "random_images = torch.zeros((n_examples, 3, tH, tW))\n",
    "random_targets = torch.zeros((n_examples, n_classes, tH, tW))\n",
    "for i in range(n_examples):\n",
    "    random_idx = torch.randint(high=len(test_dataset), size=(1,))\n",
    "    random_image, random_target = test_dataset[random_idx]\n",
    "    random_images[i] = random_image\n",
    "    random_targets[i] = random_target\n",
    "with torch.no_grad():\n",
    "    final_model.eval()\n",
    "    random_output = final_model(random_images)[0]\n",
    "channels_max, _ = torch.max(random_output, axis=1)\n",
    "random_predictions = (random_output == channels_max.unsqueeze(axis=1))\n",
    "for i in range(n_examples):\n",
    "    plt.figure(figsize=(12, 6))\n",
    "    plt.subplot(1, 2, 1)\n",
    "    plt.title('Ground Truth')\n",
    "    plt.imshow(utils.from_DHW_to_HWD(color_processing.colorize_segmentation_masks(random_targets[i], segmentation_labels.labels)))\n",
    "    plt.subplot(1, 2, 2)\n",
    "    plt.title('Prediction')\n",
    "    plt.imshow(utils.from_DHW_to_HWD(color_processing.colorize_segmentation_masks(random_predictions[i], segmentation_labels.labels)))"
   ]
  }
 ],
 "metadata": {
  "kernelspec": {
   "display_name": "Python 3.8.8 ('base')",
   "language": "python",
   "name": "python3"
  },
  "language_info": {
   "codemirror_mode": {
    "name": "ipython",
    "version": 3
   },
   "file_extension": ".py",
   "mimetype": "text/x-python",
   "name": "python",
   "nbconvert_exporter": "python",
   "pygments_lexer": "ipython3",
   "version": "3.8.8"
  },
  "orig_nbformat": 4,
  "vscode": {
   "interpreter": {
    "hash": "9ac88fb7088578c98ddf37923d050ab762e45c42e2a44ad2a5e146f45afe37fd"
   }
  }
 },
 "nbformat": 4,
 "nbformat_minor": 2
}
